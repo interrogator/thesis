{
 "cells": [
  {
   "cell_type": "markdown",
   "metadata": {
    "collapsed": true
   },
   "source": [
    "# Member roles and identities in an online support group\n",
    "\n",
    "> This notebook contains code and figures for a forthcoming publication:\n",
    "\n",
    "> `McDonald, D., & Woodward-Kron, R. (2016). Member roles and identities in online support groups: Perspectives from corpus and systemic functional linguistics. Discourse & Communication, 10(2), 157–175. DOI: 10.1177/1750481315615985`\n",
    "\n",
    "> **Please note that the corpkit API has undergone serious revisions since this document was written. This code therefore may not run with the most recent versions of the tool.**\n"
    "\n",
    "## Getting started\n",
    "\n",
    "First, we need to import [*corpkit*](https://www.github.com/interrogator/corpkit), a module for interrogating parsed corpora. Then, we set a path to our corpus, which is a series of folders representing stages of membership in an online support group. Each folder contains users' posts, parsed with Stanford CoreNLP."
   ]
  },
  {
   "cell_type": "code",
   "execution_count": 1,
   "metadata": {
    "collapsed": false
   },
   "outputs": [],
   "source": [
    "from corpkit import *\n",
    "import pandas as pd\n",
    "\n",
    "# allow figures\n",
    "%matplotlib inline\n",
    "\n",
    "# path to data\n",
    "corpus = '../new_thesis/data/postcounts-parsed'"
   ]
  },
  {
   "cell_type": "markdown",
   "metadata": {},
   "source": [
    "If the interrogations have already been saved, they can be loaded with this cell:"
   ]
  },
  {
   "cell_type": "code",
   "execution_count": 2,
   "metadata": {
    "collapsed": false
   },
   "outputs": [],
   "source": [
    "mood_data = load('moodfeatures')\n",
    "com_parts = load('part_head_lemmatisedp')\n",
    "thn = load('thingtense')\n",
    "rolegov = load('rolegovp')\n",
    "clauses = load('sent_word_char_clause').results.Clauses"
   ]
  },
  {
   "cell_type": "markdown",
   "metadata": {},
   "source": [
    "## Count modals and imperatives\n",
    "\n",
    "First, we want to see whether there are changes in the number of modalised clauses, and the number of imperatives. To do this, we not only need to count them, but also, the number of clauses more generally, so that we can create a useful relative frequency."
   ]
  },
  {
   "cell_type": "code",
   "execution_count": 2,
   "metadata": {
    "collapsed": false
   },
   "outputs": [
    {
     "name": "stdout",
     "output_type": "stream",
     "text": [
      "\n",
      "20:22:39: Beginning 3 parallel corpus interrogations: postcounts-parsed\n",
      "          Queries: '/S(BARQ?|INV|Q)/ < __', 'ROOT < (/(S|SBAR)/ < (VP !< /VB(D|G|Z|N)/ !$ NP !$ SBAR < NP !$-- S !$-- VP !$ VP)) !<< (/\\?/ !< __) !<<- /-R.B-/ !<<, /(?i)^(-l.b-|hi|hey|hello|oh|wow|thank|thankyou|thanks|welcome)$/ !<< (/(?i)^thank/ . /(?i)^you/)', 'MD < __'\n",
      "          Interrogating corpus ... \n",
      "\n",
      "\n",
      "\n",
      "20:22:39: QUEUED: Clauses\n",
      "20:22:39: QUEUED: Imperative clauses\n",
      "20:22:39: QUEUED: Modalised clauses\n",
      "\n",
      "\n",
      "\n",
      "\n",
      "\n",
      "\n",
      "20:27:27: [********************100% (Imperative clauses: 10/10)******] \n",
      "\n",
      "20:27:53: Data saved: saved_interrogations/moodfeatures.p\n",
      "\n"
     ]
    }
   ],
   "source": [
    "# define tregex queries\n",
    "q = {'Imperative clauses': r'ROOT < (/(S|SBAR)/ < (VP !< /VB(D|G|Z|N)/ !$ NP !$ SBAR < NP !$-- S !$-- VP !$ VP)) !<< (/\\?/ !< __) !<<- /-R.B-/ !<<, /(?i)^(-l.b-|hi|hey|hello|oh|wow|thank|thankyou|thanks|welcome)$/ !<< (/(?i)^thank/ . /(?i)^you/)',\n",
    "     'Modalised clauses': r'MD < __',\n",
    "     'Clauses': r'/S(BARQ?|INV|Q)/ < __'}\n",
    "\n",
    "# interrogate the corpus\n",
    "mood_data = interrogator(corpus, 't', q, show = 'c', quicksave = 'moodfeatures')"
   ]
  },
  {
   "cell_type": "code",
   "execution_count": 15,
   "metadata": {
    "collapsed": false
   },
   "outputs": [
    {
     "name": "stdout",
     "output_type": "stream",
     "text": [
      "\n",
      "***Processing results***\n",
      "========================\n",
      "\n",
      "Skipping 1 entries:\n",
      "    Clauses\n",
      "\n",
      "***Done!***\n",
      "========================\n",
      "\n"
     ]
    }
   ],
   "source": [
    "# calculate relative frequencies, remove clauses from results\n",
    "relfeatures = editor(mood_data.results, '%', mood_data.results['Clauses'], \n",
    "                     skip_entries = ['Clauses'])"
   ]
  },
  {
   "cell_type": "code",
   "execution_count": 34,
   "metadata": {
    "collapsed": false
   },
   "outputs": [
    {
     "name": "stdout",
     "output_type": "stream",
     "text": [
      "\n",
      "00:33:42: images/mod_imp.png created.\n"
     ]
    },
    {
     "data": {
      "text/plain": [
       "<matplotlib.figure.Figure at 0x119ad1e90>"
      ]
     },
     "metadata": {},
     "output_type": "display_data"
    },
    {
     "data": {
      "image/png": "iVBORw0KGgoAAAANSUhEUgAAAf0AAAE4CAYAAABR6SqPAAAABHNCSVQICAgIfAhkiAAAAAlwSFlz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\nAABJRU5ErkJggg==\n",
      "text/plain": [
       "<matplotlib.figure.Figure at 0x117fc51d0>"
      ]
     },
     "metadata": {},
     "output_type": "display_data"
    }
   ],
   "source": [
    "# plot using subplots\n",
    "plotter('x', relfeatures.results, subplots = True, \n",
    "        y_label = 'Percentage of all clauses', x_label = 'Membership stage',\n",
    "        figsize = (8, 5), rot = False, sharex = True, style = 'seaborn-paper', save = 'mod_imp')"
   ]
  },
  {
   "cell_type": "markdown",
   "metadata": {},
   "source": [
    "## Categorisation of *I would + adjunct*\n",
    "\n",
    "One area of change is in the use of \"I would...\" constructions. Looking at the first and final subcorpora, I found six major functions of *I would + adjunct*. Each instance in the two subcorpora was coded by hand. It can be loaded in as a CSV file:"
   ]
  },
  {
   "cell_type": "code",
   "execution_count": 4,
   "metadata": {
    "collapsed": false
   },
   "outputs": [
    {
     "name": "stdout",
     "output_type": "stream",
     "text": [
      "                                          New members  Veteran members\n",
      "Past behaviour                                     76                9\n",
      "Advice                                             22               69\n",
      "Request                                            66                5\n",
      "\\noindent Inclination \\& \\\\ hypothetical           93               58\n",
      "\\noindent Hedged \\\\ salutation                      5                0\n",
      "Past sense of \\emph{will}                          22                7\n"
     ]
    }
   ],
   "source": [
    "# file contains some latex markup for formatting\n",
    "would_data = pd.read_csv('would-categorisation.csv', index_col = 0).T\n",
    "print would_data"
   ]
  },
  {
   "cell_type": "code",
   "execution_count": 7,
   "metadata": {
    "collapsed": false
   },
   "outputs": [
    {
     "name": "stdout",
     "output_type": "stream",
     "text": [
      "\n",
      "09:38:38: images/i_would_fixed.png created.\n"
     ]
    },
    {
     "data": {
      "image/png": "iVBORw0KGgoAAAANSUhEUgAAAjQAAAEUCAYAAAA8z6yoAAAABHNCSVQICAgIfAhkiAAAAAlwSFlz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\nwPcIaAAAgO8R0AAAAN/7/9TZUQ8aAnNVAAAAAElFTkSuQmCC\n",
      "text/plain": [
       "<matplotlib.figure.Figure at 0x115334ad0>"
      ]
     },
     "metadata": {},
     "output_type": "display_data"
    }
   ],
   "source": [
    "plotter(r'Functional categorisation of \\emph{I would} + adjunct', would_data, \n",
    "        kind = 'bar', style = 'seaborn-paper', rot = False, black_and_white = False,\n",
    "        x_label = 'Function', save = 'i_would_fixed')"
   ]
  },
  {
   "cell_type": "markdown",
   "metadata": {},
   "source": [
    "## Participants\n",
    "\n",
    "We can approximate the systemic-functional notion of participants by extracting the heads of NP and ADJP arguments of VPs, and by lemmatising the results."
   ]
  },
  {
   "cell_type": "code",
   "execution_count": 11,
   "metadata": {
    "collapsed": false
   },
   "outputs": [
    {
     "name": "stdout",
     "output_type": "stream",
     "text": [
      " 22:33:37: Interrogation finished! 31014 unique results, 1660351 total.\n",
      "\n",
      "\n",
      "22:33:39: Data saved: saved_interrogations/part_head_lemmatisedp.p\n",
      "\n"
     ]
    }
   ],
   "source": [
    "com_parts = interrogator(corpus, 't', r'/(NN|PRP|JJ).?/ >># (/(NP|ADJP)/ $ VP | > VP)', \n",
    "                         show = 'l', quicksave = 'part_head_lemmatised')"
   ]
  },
  {
   "cell_type": "code",
   "execution_count": 9,
   "metadata": {
    "collapsed": false
   },
   "outputs": [
    {
     "name": "stdout",
     "output_type": "stream",
     "text": [
      "\n",
      "***Processing results***\n",
      "========================\n",
      "\n",
      "Keeping 2 subcorpora:\n",
      "    01\n",
      "    10\n",
      "\n",
      "***Done!***\n",
      "========================\n",
      "\n",
      "\n",
      "***Processing results***\n",
      "========================\n",
      "\n",
      "Keeping 20 entries:\n",
      "    you\n",
      "    it\n",
      "    pdoc\n",
      "    we\n",
      "    they\n",
      "    med\n",
      "    she\n",
      "    bp\n",
      "    able\n",
      "    hug\n",
      "... and 10 more ... \n",
      "\n",
      "***Done!***\n",
      "========================\n",
      "\n",
      "\n",
      "09:54:36: images/common_in_vet_bw.png created.\n"
     ]
    },
    {
     "data": {
      "image/png": "iVBORw0KGgoAAAANSUhEUgAAAjQAAAEUCAYAAAA8z6yoAAAABHNCSVQICAgIfAhkiAAAAAlwSFlz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\noO1R0AAAgLZHQQMAANre/wcyU4mYynOjtwAAAABJRU5ErkJggg==\n",
      "text/plain": [
       "<matplotlib.figure.Figure at 0x11522afd0>"
      ]
     },
     "metadata": {},
     "output_type": "display_data"
    }
   ],
   "source": [
    "# get relative frequency, sort by trajectory\n",
    "com_in_vet = editor(com_parts.results, '%', com_parts.totals, just_subcorpora = ['01', '10'], sort_by = 'increase')\n",
    "# get first and last ten items\n",
    "firstlast = list(com_in_vet.results.columns[:10]) + list(com_in_vet.results.columns[-10:])\n",
    "# remove all others\n",
    "fl = editor(com_in_vet.results, just_entries = firstlast)\n",
    "# rename subcorpora\n",
    "fl.results.index = ['New members', 'Veteran members']\n",
    "# plot\n",
    "plotter('Common participants in veteran posts (lemmatised)', fl.results.T,\n",
    "         y_label = 'Percentage of all participants', style = 'seaborn-paper', black_and_white = True,\n",
    "         kind = 'bar', rot = False, x_label = 'Membership stage', save = 'common_in_vet_bw')"
   ]
  },
  {
   "cell_type": "code",
   "execution_count": 11,
   "metadata": {
    "collapsed": false
   },
   "outputs": [
    {
     "name": "stdout",
     "output_type": "stream",
     "text": [
      "\n",
      "***Processing results***\n",
      "========================\n",
      "\n",
      "Keeping 10 entries:\n",
      "    we\n",
      "    board\n",
      "    thing\n",
      "    bp\n",
      "    manic\n",
      "    mania\n",
      "    hypomania\n",
      "    hypomanic\n",
      "    pdoc\n",
      "    tdoc\n",
      "\n",
      "***Done!***\n",
      "========================\n",
      "\n",
      "\n",
      "09:56:01: images/comm_in_vet_selected_fixed.png created.\n"
     ]
    },
    {
     "data": {
      "image/png": "iVBORw0KGgoAAAANSUhEUgAAAjQAAAEUCAYAAAA8z6yoAAAABHNCSVQICAgIfAhkiAAAAAlwSFlz\nAAALEgAACxIB0t1+/AAAIABJREFUeJzt3W9sG/ed5/HP2NnWTvgvD+xcYw79II0TUZYf1Em3lA7b\nejcr2ckh2ebOshAgiyKWoxa9IgUqt7dbbBxnC9zdWtrC8BWJa6eHJouuKCHbpA+skoe2eSKxm9ot\nEFGk4yQPrBk5t3Vx5b8mcYA174GWs/rvGYmUhtL7BQSxOTP8fX9Dc/TV7zfz+xrVarUqAACAJrZl\nvQMAAABYLRIaAADQ9EhoAABA0yOhAQAATY+EBgAAND0SGgAA0PRIaAAAQNMjoQEaxLIsnT9/XplM\nRqlUSqlUSsPDw+sdVt1YljXnzydOnFhyv6W2rabNW+1XrzZX0v56aoYYgUYgoQEaoFwu68SJE+rt\n7VUikVBXV5fi8bjK5fJ6h1YX5XJZ586dc/5umqZOnjy56L7LbVtNm8upV5srbX+9NEOMQKNsfe65\n555b7yCAjeaNN95QqVTSgQMHnNfC4bD27NmjGzdu6PXXX5dhGPrFL36h1tZW5XI5fetb39LOnTuV\nSqV0/fp1Xb9+XclkUu3t7bfcXi6XF33Pvr4+xWIxpVIpbd++XTt27JgTZyaT0TPPPKNYLKZMJiPb\ntnXXXXfplVde0Y0bN5TJZNTa2qpMJqMTJ07o448/1vT0tCRpaGhIsVhMpmkql8vpO9/5jg4dOqRy\nuawzZ87IMAylUilt27bN2ea2vcViLxaLc9rMZDIql8t69913ValU5vRtdjxezsORI0eUSqX0m9/8\nRqFQSKlUSqVSSalUSuFweE77lmXN2X7jxo0552jnzp2u+uXmM/n0pz+96Gc8/xx4OUfARsMIDbCG\nAoGATp06pba2NsXjcYXDYb300kuKx+MqFotKJBJqbW1VNptVIpGQJNm2veR2wzBkWdaS73nnnXfO\nOWa+RCLh7NPd3a2BgQEZhiHDMCRJP/3pT539isWiDh8+rM7OzjnvLUnxeNw55uzZs3rkkUeUSCTU\n0dExZ5vb9haLfX6blmUpmUwqEokoGo3O6dfsNt2eh1gspnK5rFAopMOHD+vcuXOKRCKKRCIyDGNB\n+/O3zz9Hklz1y81nImnBZ3z+/HnZtu2cA9M0PZ0jYKMhoQEaoL29XbZtL3g9l8vJMAwFg8EF28Lh\nsPPnSCTianutFNtS7zm7VFuxWFw01tn7GIah0dFRhUKhOQmVpCV/INa2195n9rRaS0vLgjbctjd7\nv1KpNOc1y7LU1tam48ePa2xsTJlMZtl+uTkPfX19Onv27JzYTNNUS0uLjhw5sqD9xbbPPkdu+uX2\nM6n9f/ZnbBiG9u7dq/7+fo2NjWl8fNzzOQI2ktvWOwBgIwoGgzp58qTOnz+v1tZWlUol54dbf3+/\nhoeHFY/HZdu2jh49qlwuJ9u2Zdu2Jicnlc1mZVmW8vm8M12x1PZf/vKXOn78uIaGhpz9lnrPxRQK\nBeXzeU1MTOjkyZMql8uyLEuZTEahUEiWZalUKjnvVfuhHY1GlU6n1dnZqVwup3w+r0qlov7+fn3/\n+99XoVCQNJOI1bYFAgHP7c2O3TRNp83aue3o6FiQzM2OZ2pqytV5aGlp0dmzZ50EZH4/EonEnPYX\n6+fsc1T7u5t+3eozqcUz/9/NYufA7TkCNhqDatvA5vbUU0/pBz/4wYZtrxlxjgDv6j7lVC6Xlclk\n9NJLL80Z4rQsS48//rhOnDix6FA8gLU3exRnI7bXjDhHwMrUfYRmeHhY7e3tikajc37LsCxLd955\npwKBQD2bAwAAqP89NN3d3ZJmfsswTXPOtgsXLsgwDLW2tioej9e7aQAAsEk17B6awcFB9fX1LToi\n8+yzz+r5559f9LgPP/xYt922tREhzbF1q6F//deNdfvQRusT/fE3+uNv9Mff6M/K/NEfLZ0fNOQp\np1Qqpaefflq///3vnYRmeHhYDz/8sAKBgPMI5mIqlRuNCGmBSOR2FQofrElba2Wj9Yn++Bv98Tf6\n42/0Z2V27Fj6ab26JzSpVEqDg4PO44Xd3d1KpVI6ePCgJiYmZNu2+vv7690sAADYxOqe0HR1damr\nq2vOa729vZKWXpgLAABgNVgpGAAAND0SGgAA0PRIaAAAwLKuXLmsa9em1zuMZVHLCQAAD27evKnp\n6dWt5BwK7Vly25Url/U3f/Pf9J3v/E/de+99+tGPXlapVNKXv/xfV9XmagQCQb3xxs/0xBN/uW4x\n3AoJDQAAHkxP29q/vyBppQ+62HrnHUvh8I5Ft+7Zc7++8pWv6YUXzujv//5/6bHHHl92uZO1EAqF\n17V9N0hoAADwLCpp9yqO/9dltwYCQT322OP60Y9e1mOPPa5qtapr16Z18eKbMgxD+/c/qIsX39T0\ntK2Wlrjy+Zyzf3//Xznv88YbP9PPfvZ/9Bd/8Z/15pu/1IMP/rF+9at/1le+8rUF73flyuUl95Wk\nfD6nS5d+pbffzuuJJ/5yzvEHDvyJLl78jX71q3+WYRj6whf+TJJ05crbeuKJJ1dxntzjHhoAAHzG\nMAx9/vN/qsuX88rnc5KkF144o5aWuO6+e5fef/+aHn30i6pUytq1KyrDMPSHP1Sc5KPmgQf+WOFw\nWPv3P6j337+mBx74rKJRU1euXF7wfovtu2tXVO+887YkqaWlVfv3P+hMP80+fnra1gMP/LGCwZD6\n+/9KV65c1sWLb+rBBz+7ZueMhAYAAJ+pVSX65je/rRdf/F8yDEOGYejuu3dp//4Hdf/9LZJmEp9S\nqaRQKKxSqaQ77lhYbqj2WjAYnPPei73f/H3nRSVJCoVCC45vbd07Z9sXvvBnevTRL+rll//3qs+F\nW0w5AQDg2WpuCrYlfWrJrRcvvqmf/OTHammJKxAI6MknvyRJ+spXvqbXX/8n3Xdfi+6+e5fuuCOg\nAwcekiQ9+OBnF30K6fLlnN55521duzatt9++rPffv6a3387LMIwF7zc9bS+576c+tUulUkmXLv1K\n165d0xNPPKn77mtxjr///k/r4sVf6/LlvP7wh4reeONnuu++Fn32s59bxXnypmHFKVfq+vXymrSz\n0epoSBuvT/TH3+iPv9GfxqnHU06trXtUKn1Up4jW34as5QQAwEa2ZcsWmWZs1e+B+tqUCc3Nmzd1\n9epVlUofejpu164o/wgBAPChTZnQTE/b2v+9vVLIw0El6dJXs6vOygEAQP1tyoRG0kwyE1nvIAAA\n2HiuXLmsQCCou+/etWZtbt6EBgCAFWh06YPaGi8/+ME/6I47Arpy5bL+4R9+qOef/+8L9r12bXpN\nkwa31qNUAgkNAAAerOi2hdlK0jt/9d6SpQ++8IU/009+8uM5r33rW99esN+1a9O+ra+0HqUSSGgA\nAPCqwbctPPbY43r99X/SE0/8pUqlkvbsCSxaquDy5bzeeedt3XFHYMG2WhmCxx57XPl8TpVKWY8+\n+rguXvxnp8RBrYxBzUpLJbz11iW1tX3GdamE+THWo1QCj+wAAOAzn//8n+rixTclSeHwzGjH/FIF\ne/bcr/vvj+vee+9btIxBrQzBvffe928r+Bq6dOnNOSUO5k+drbRUgm3bnkolzI+xHqUSGKEBAMCH\n9uy5Xz/60SvOiEWt1MC9996nP/yhopllcWeKVi62rVaG4IUXzuihhzoVCARVqcwsXrtYiYSaW5VK\nmN1Gbd9aW3MtXiphsRhrIzQvvHBGf/u3/2NF54uEBgAAr0qNP/bRR7+oN974ufP3+aUKPvWpu1Uq\nlfT++9cWbHv77bxThiAaNXXt2rSKxaKuXLmsrVu3Lihx8KlP3S1p5aUScrmcp1IJ82OsR6mETVn6\nwLKmtP+Vvd7mPwvSpSf9vQ6Nn5YGrwf642/0x9/oT+NQ+mAhSh8AANBkKH3gT5xRAADQ9EhoAABA\n0yOhAQAATY+EBgAAND0SGgAA0PRIaAAAQNMjoQEAAE2PhAYAADQ9EhoAAND0SGgAAEDTI6EBAABN\nj4QGAAA0PRIaAADQ9EhoAABA0yOhAQAATY+EBgAANL3b6v2G5XJZ2WxWuVxO8XhciUTCeT2ZTCoW\niykajSoej9e7aQAAsEnVfYRmdHRUpmnq6NGjOnfunPN6MplUT0+POjs7deHChXo3CwAANrG6JzTd\n3d2KRqPK5XIyTdN5fWJiQoFAQJJkWVa9mwUAAJtY3aecakZHR3X8+HHn74ZhqFKpKBAIqFwuL3lc\nIPBJ3Xbb1kaFJUkqFrev6LhQaLsikdvrHE39bN26xdfxeUV//I3++Bv98Tf6U38NSWhSqZSefvpp\n/f73v3dGZdra2lQoFBQIBBQKhZY8tlK50YiQ5iiVPlzxcYXCB3WOpn4ikdt9HZ9X9Mff6I+/0R9/\noz8rs2NHcMltdU9oUqmUBgcHNTw8rHg8ru7ubqXTaR05ckRDQ0MKh8Pq6+urd7MAAGATq3tC09XV\npa6urjmvHT16VJLU29tb7+YAAABYhwYAADQ/EhoAAND0SGgAAEDTc5XQVCoVSVI+n3f+DAAA4Beu\nEppkMqlMJqN//Md/1OjoaKNjAgAA8MRVQhOPxzU+Pq7jx48rGo02OiYAAABPXN9DEw6HVSwWNTk5\n2ch4AAAAPHO1Dk0ikVAikVC5XGYtGQAA4DuuRmgymYwkqVgsKp1ONzQgAAAAr5YdobEsS8lkUrlc\nTslkUpJkmqY6OzvXJDgAAAA3lk1oTNNUX1+fstmscw9NLpdbq9gAAABcueU9NMFgUGNjY9q9e7eq\n1aqmpqbWIi4AAADXXN0U3NHRoUQiIUmybbuhAQEAAHjlKqE5d+6czp8/r0AgINu29eqrrzY6LgAA\nANdcJTTHjh1zRmi4hwYAAPiNq8e2a8lMpVJRsVhsaEAAAABeuRqhyWQyGhoakiQZhuEkOAAAAH7g\nKqEplUrq6elRIpFQKpVqdEwAAACeuJpysixL5XJZ6XSap5wAAIDvuEpourq61NnZqampKZmm2eiY\nAAAAPHE15VQul/XUU0/JMAwdPHiw0TEBAAB44mqE5sKFCzp9+rS++93vOjWdAAAA/ML1SsHBYFCS\n1N7eLmnmEe5AINC4yAAAAFxyvVJwMplUtVqVZVkyTZMVgwEAgG94Xim4JpPJNCQgAAAArzytFCzN\nTDXNfw0AAGA9LTtCMzg4qG984xt69tlnVSqVVK1WmWoCAAC+s2xC093dLUnq6elRPB6XRHFKAADg\nP8tOOdUW0ctkMs4KwRSnBAAAfuPqHpp4PK5oNCppZpE9AAAAP3GV0IyNjcm2bVmWpbfeeqvRMQEA\nAHji6rHtvr4+DQwMOH8GAADwk2VHaAYHByVJp06dUqFQUKFQ0Ne+9rU1CQwAAMAtnnICAABNz9VT\nTrVkplKpOH8GAADwC1c3BdfKHBQKBaXT6YYGBAAA4NWyU06WZSmZTCqXyznFKWOxmDo7O5c8plwu\nK5vNanJyUr29vXPe65lnnlFbW5uOHTvmPAYOAACwWssmNKZpqq+vT9ls1nXtpmAwqGg0qvHx8QXb\nXn75ZQUCgZVFCgAAsIRbPrYdDAYViUTq0tiFCxdkGIZaW1u5FwcAANSNq3toZo+21EogeGWaprq7\nu3X48GENDQ2t6D0AAAAW42phvbfeektHjx7Vrl27NDk56aradrVanfP34eFhPfzwwwoEAiqVSiuL\nFgAAYBGuEpqenh7nHpraE0/LyWQyyufzsm1b1WpV6XRaXV1dmpiYkG3b6u/vX/LYQOCTuu22rS7D\nX5licfuKjguFtisSub3O0dTP1q1bfB2fV/TH3+iPv9Eff6M/9WdU5w+lLKNSqWhiYsL1DcIrcf16\n44tfWtaU9r+yV/Jya1BBuvRkVqYZa1hcqxWJ3K5C4YP1DqNu6I+/0R9/oz/+Rn9WZseO4JLbXI3Q\nZDIZ574XwzAamtAAAAB45SqhKZVKzrRTKpVqdEwAAACeuHrKybIslctlpdPpFT/lBAAA0CiuEpqu\nri51dnZqamrKqe8EAADgF66mnMrlsp566ikZhqGDBw82OiYAAABPXI3QXLhwQadPn9Z3v/tdJZPJ\nRscEAADgiasRmo6ODgWDM49Ktbe3S5p5hJu6TAAAwA9cJTTnzp1zqm1bliXTNGXbtqsVgwEAABrN\nVUJz7NixBWvPuFkxGAAAYC24uodmsYX0WFwPAAD4hauEBgAAwM88JzSVSqURcQAAAKzYkvfQ5HI5\nnT17VoZhOK9Vq1Xf3Qx88+ZNTU97W734/fevNSgaAACwHpa9Kfj06dMLXsvlcg0LZiWmp23t31+Q\nFPVwVEn6eqMiAgAAa23JhCYejy/6eiwWa1gwKxeVtNvD/tSjAgBgI3E15VStVp3/+23KCQAAoOmn\nnAAAAJZ8ymmxKadKpaJisdjQgAAAALxytVJwJpPR0NCQJMkwDBbVAwAAvuIqoSmVSurp6VEikVAq\nlWp0TAAAAJ64WljPsiyVy2Wl02nZNk8IAQAAf3GV0HR1damzs1NTU1MyTbPRMQEAAHjiasqplsT0\n9vY2NBgAAICVcJXQwP9u3rypq1evqlT60NNxu3ZFtWULNUoBAM1t2YTGtm1Fo15KCmC9TE/b2v+9\nvVLIw0El6dJXszJNP67+DACAe8v+ap5MJiVJ+XzeeY2bgn0sJCni4T8vyQ8AAD627AhNOBzWs88+\nq2w2q1gsRukDAADgS8smNLWbgHO5nLNyMKUPAACA37i6KTgejyufz6tQKLBKMAAA8B1XCc3w8LCm\npqYkzYzQHD16tKFBAQAAeOF6HZru7m5JM3WdAAAA/MR16YNKpSLbtrmHBgAA+I6rEZpDhw7p7/7u\n71QqldTf39/omAAWCgQAeOIqoQkGg3r++ecbHQvgYKFAAIAXlD6Af9UWCgQA4BZcjc2nUimNjIyo\nUqnMWTUYAADAD1yN0IRCIcViMQUCARUKhUbHBAAA4Inrp5wKhYLy+bzGx8cbHRMAAIAnrkZoEomE\nBgYGFIlEbvmUU7lcVjab1eTkpFM6ofZ6MplULBZTNBp1SikAAACslquEplKp6PTp087fM5mM2tra\nFAgEFuwbDAYVjUYXjOQkk0n19PQoEAhoYGCAhAYAANSNqymniYkJjYyMSJJGRkZkWZZGR0c9NTQx\nMeEkQJZleQwTAABgaa5XINu7d68ymYyy2ay6u7sVjUY9NWQYhiqViqSZ6ScAAIB6cZXQlEolFQoF\n5+bgWmKynGq1OufvbW1tzhNSoZCX1dIAAACW5+oemiNHjmh8fFyJREKHDh3S0NCQWltbl9w/k8ko\nn8/Ltm1Vq1Wl02kdOXJEQ0NDCofD6uvrW/LYQOCTuu22ra47UCxud73vaoVC2xWJ3N7wdm7evOl5\nWq5c/n8ramut+uTVSj9Xv/ZHkrZu3eLb2FaC/vgb/fE3+lN/RnX+UMoyKpWKJiYmlEgkGhbQ9eve\npqMsa0r79wck7fZw1Jj09f/obRXagnTpybVZVn+mTwVJXqb1Lkpf/y++7ZNXljWl/a/s3TD9kaRI\n5HYVCh+sdxh1Q3/8jf74G/1ZmR07gktuczVCk8lklEwmVa1WZRhGQxMa1ETlLUmzGxUIAAC+5yqh\nKZVKOnLkiBKJhFKpVKNjAgAA8MT1SsHlclnpdFq2zUgAAADwF1cJTVdXlzo7OzU1NeX5cW0AAIBG\nczXlZJqmpJmnnYLBpW/IAQAAWA+uRmgymYwkqVgsKp1ONzQgAAAAr5YdobEsS8lkUrlcznnKKRaL\nqbOzc63iAwAAuKVlExrTNNXX16dsNsuj2gAAwLduOeUUDAaVSCSUz+eVyWT00ksvrUVcAAAArrm6\nKXhgYECx2Mzqq1evXm1oQAAAAF65Smg6OjqcKaf29vaGBgQAAOCVq4Tm3LlzOn/+vAKBgGzb1quv\nvtrouAAAAFxzldAcO3bMGaHJ5XINDQgAAMArV+vQlEoljYyMqFKpyDCMRscEAADgiasRmlAopFgs\npkAgoEKh0OiYAAAAPHFdnLJQKCifz2tsbKzRMQEAAHjiaoQmkUhoYGBAkUhEx48fb3RMAAAAnrhK\naNLptPr7+2WapjKZDKsGAwAAX3E15RSPx52K2+VyuaEBAQAAeOUqoRkbG5Nt27JtW2+99VajYwIA\nAPDE1ZRTX1+fTp06JcMw1N/f3+iYAAAAPHGV0Ni2reeff77RsQAAAKyIqymn8fFx58+2bTcsGAAA\ngJVwNULz1ltv6ejRo9q1a5cmJyep5QQAAHzFVULT09PjPKqdyWQaGhAAAIBXnms5RSKRRscEAADg\nCbWcAABA0/Ncy2n2DcIAAAB+4LmWE+vQAAAAv1k2obEsSydOnJBpmjp9+vRaxQQAAODJslNOw8PD\n6u/v18GDB5VOp9cqJgAAAE+WHaHZu3ev4vG4JB7XBgAA/rXsCI1hGKpUKqpUKpKkSqWikZGRNQkM\nAADArWVHaE6dOqVYLKZqteq8Ztu2Dh8+3PDAAAAA3Fo2oTl9+rQz5VRjWVZDAwIAAPBq2Smn+cmM\nJJmm2bBgAAAAVsLVwnoAAAB+RkIDAACaHgkNAABoenVPaMrlss6fP690Oq1cLue8blmWHn/8cZ04\ncUK2bde7WQAAsIm5quXkRTKZVE9PjwKBgAYGBubcWPzyyy8rEAjUu0kAALDJ1X2EZmJiwkla5j/i\nfeHCBY2MjMwZuQEAAFituic0tdWFpZnppxrTNNXd3a3Dhw9raGio3s0CAIBNrO5TTm1tbSoUCgoE\nAgqFQs7rw8PDevjhhxUIBFQqlZY8PhD4pG67bavr9orF7auK14tQaLsikdsb3s5G7JNXKz0Hfu2P\nJG3dusW3sa0E/fE3+uNv9Kf+6p7QdHd3K5lMKhwOq6+vT5ZlKZ1Oq6urSxMTE7JtW/39/UseX6nc\n8NReqfShpLW5L6dU+lCFwgdr0s5G65NXM+dgZcf5sT+SFInc7tvYVoL++Bv98Tf6szI7dgSX3Fb3\nhCYYDKq3t3fOa0ePHpUkRaPRejcHAABQ/4QGwEI3b97U1atXPY887doV1ZYtLBcFALdCQgOsgelp\nW/u/t1cK3XpfR0m69NWsTDPWsLgAYKMgoQHWSkhSZL2DAICNibFsAADQ9EhoAABA0yOhAQAATY+E\nBgAAND0SGgAA0PRIaAAAQNMjoQEAAE2PhAYAADQ9EhoAAND0SGgAAEDTI6EBAABNj4QGAAA0PRIa\nAADQ9EhoAABA0yOhAQAATY+EBgAAND0SGgAA0PRIaAAAQNO7bb0DAADU182bN3X16lWVSh96Om7X\nrqi2bOH3XDQnEhoA2GCmp23t/95eKeThoJJ06atZmWasYXEBjURCA8AzRgCaQEhSZL2DANYOCQ0A\nzxgBAOA3JDQAVoYRAAA+QkIDYNNjCg1ofiQ0gEc3b97U9LTt6Zj337/WoGhQD0yhAc2PhAbwaHra\n1v79BUlRD0eVpK83KqLVIUH7N0yhAU2NhAZYkaik3R7295YwrKWNlqAB2JxIaABoIyVoADYnEhoA\nGwpTaMDmREKDhuMHDNYSU2jA5kRCg4bjBwzWHlNowGZDQoM1wg8YACvDOkFwg4QGALBmVjoF/Z/+\nqZN1grAsEhoAwJpZ1RT0BlknaKONOPmlPyQ0AIA1trmnoDfaytR+6U/dE5pyuaxkMqlYLKZoNKp4\nPL7s6wAAbDobbWVqH/Sn7glNMplUT0+PAoGABgYGnMRlqdcBAGhWG21ZimbuT90TmomJCfX29kqS\nLMu65ev14XU48v9KJY+HeN1/1TZan+gP/fG4/6psrP5Y1pSn/d9//5qv+7ORPp+Ze4ImJf0HD0dd\nkZ7y2BD9uaW6JzSGYahSqSgQCKhcLt/y9fl27Ah6am/HjlZVq16j3C3J80FrZqP1if5I9GftbLT+\nSDN98qZV1Uf82Z+N9vnM9Mfr5/Mnkr7aiHBWrZn7U/fbpdva2lQoFCRJoVDolq8DAACsllGtes+V\nl1O7+TccDmvv3r0KBAJKp9M6cuSIhoaGnNdbWlrq2SwAANjE6p7QAAAArDX/rdADANgUcrlcXR4S\nKZfLymQydYgIzYyEpsnkcjnlcrn1DqOhNsLFqV4X6maTy+U0MjKy3mHUTbP1p9m+O8FgUKlUqi7v\nMzo6WoeIlrbRrr0brT8SCU3TqP1wNE1TFy5cmLOt2S66t7IWF6dGq9eFutnE43EdPnx4vcOoG7/3\nZ37S3GzfnUikfiuxGYZRt/dazGLX3vVQr+v9RuuPROmDpmBZllKplLOOz3zxeHzDLVTY6ItTo9Xz\nQr2WUqmULly4oJ6eHo2Njamjo0NjY2Pq7+9XLpdTNptVqVTSkSNHND4+7uw7OTmp3t5eZTIZTU5O\nqqurS6lUat0fAqhXfzo6OjQxMaFSqeQsELrelrouNNt3Z2JiwjnPvb29Tr9isZiCwaAikYhz7muf\n09jYmAzDcD4j0zRVLBbXuytrYqNd7+vZn63PPffcc3V5J58bHh7W6OioyuWyXnvtNZmmqcHBQX36\n059WKpXS5OSkwuGwLx8p/+Uvf6nx8XHt3r1boVBIr7zyinbu3KlUKqXPfOYzymQySqVSun79us6c\nOaNIJOJsq10cMpmM3nvvPbW2el1foDFSqZTOnDmjrVu36sc//rHa29udWEulki5duqSDBw/KsiyN\njIzod7/7nX77299KkkZGRvTee+9py5Yt2rFjxzr3ZHEff/yxhoaG5nwWi/XZb+666y79+te/1pNP\nPqnh4WEdO3ZMtm1ry5Ytisfjsm1b5XJZpVJJ7e3tzr6vvfaaDhw4oEgkorGxMWUyGR05ckSJRELb\nt2/XJz7xiabtz/j4uB599NE5+95zzz3r0p/ZZl8XPvroo6b87nz88cf63e9+p0cffVTvvfeebNvW\nD3/4Q33729/WPffco4GBAT355JNzzn1HR4ey2az++q//WoODg/rSl76ke+65R5lMRgcOHGhorLOv\nve+++66SyaQOHDigZ555Rh999JFefPHFBd/v+Z9DLpdzrtPJZFKGYSiZTKq9vV25XE6/+MUvlMlk\ndO+99+rGMy/RAAAH2UlEQVSNN95YcE2vXe937Nixqs/Tb/3Zvn27s++ePXtWdM3YNFNO3d3dKpVK\nisVmCmFVKhV985vf1MDAgNra2mSapm/veYjH42pra3N+yzVNU4lEQlNTM6uH7t27V8ViUR0dHYpE\nIkokEk5fcrmc2traZBiGEonEuvVhvvb2du3bt0+dnZ3OP+5z587p4YcfViKRUDgcliQNDAyot7dX\nnZ2dGhoa0rlz53Tw4EEdPnxYpmmucy+Wt2/fPiUSCYVCIaXTaXV0dMzpczqdXu8QFxUMzixuOTu5\nr1arGhgYUCwWUzweV+3hyNq+85VKJWeUar1HM1bbn6X2XW+zrwvN/N2pnc/a5zN7hKlcLmtwcHDO\nua9Wq04fZ++7Fp9L7dprWZbzM0WSvvzlL+uhhx5a9Ps9/3OYfZ22bVuJREKxWEz5fF7xeFzhcFiG\nYSiTyai9vd3Zd/b1vlAo1OXz9Et/isWiWlpanH3Hx8dX1J9NNeVkGIYKhYLuvPNOFQoFtbS0yDAM\nmaaplpYWVSqV9Q5xUZFIRNVqVbZtKxwOL3nRrVarzrbal9s0TU1NTSkejysaja5p3Lcy+wJkGMai\nF6f5FzfDMHzzg/JWan2oXXxrn5GfZbNZ5fN5WZalyclJ2batyclJGYah3bt3y7IsFQoFTU5OauvW\nrQv2tSxLtm2rv79fL774ovbt27eu//bq1Z+Ojo45+3Z0dKz7v7/adcGyrKb+7hSLRWUyGdm2raNH\nj6q1tVXDw8OKRCLOiNrsc//BBx8om82qUqno2LFjGh0dVTQadT6zRv5bm3993bt3r4aHh9Xd3a1y\nubzo93v251CpVOZcpxdLsh955BGFQiEnuWjkLw1+6c9S+3q1qRKagwcPSpIzvSFJ/f39GhoaUmtr\nq0zT9NUXvSYYDKpYLMqyLFmWteRFd7GLdzAY1IULFxSLxRQOh30195rNZpXJZFQsFtXZ2al4PL7g\n4tTf3z/n4maapi9+ULox/0JdLpcX9NlvEomEM5L36quvSpJOnjy55P4PPfTQnH2j0ahzfH9/fyND\ndaWe/fGb2nXBtu1Ff7A3w3cnGAzqG9/4hiQ55zkajaq7u3vZ4774xS9KmvlBXrtpu/aZNcpi19eu\nri4NDw/P2Wf+93v259Db2+ubXxr81p96/NLAwnob3Pnz552bGJ999lk9//zz6x2SpH9fUXqpG503\nos3YZ2AjK5fLsm1bLS0tG+L73ez92VQjNJtRLBbTxMSEpJl6Wn4xPj6ubDa73mGsqc3YZ2CjOn/+\nvGKxmDNy0ezf743QH0ZoAABA09s0TzkBAICNi4QGAAA0PRIaAADQ9EhoAPha7THSZiuml0qlVKlU\nZFlWU8UNNCsSGmADyuVy+vM//3Ol02mlUikNDg56Wgl79r6WZWlwcHDJ/ZbatpK25kulUs6S6/F4\nXGfPnl1VW164PQdLmZiYkGVZMk1Tk5OT9Q4PwDwkNMAGFI/HFYvF1N7erq6uLh06dEgnTpxwdWxt\n/Yka0zSdxc/mW27bStqab2JiYs6CYWtVeNHLOVjK7AKln/vc5zZl9XVgLW2a4pTAZvP666/r0KFD\n+sQnPqF3331X169f17333qvh4WFdv35d169fl2maymQyGhgY0LVr17R9+3ZNTU0plUpp586dMk3T\nKT534MABlctlnTlzRoZhKJVKadu2bTpz5oy2bdumEydOaOfOnUomk4pEIvroo480MjKyoK3Z+23b\ntm1OW/PV6r/U/PSnP3UKL9aKMeZyOV2/fn3O+1YqFf32t7+dUwBvue21gnu1WGvb5p+Dbdu2ybZt\npdNp7dmzR//yL/8yJ4677rpLr7zyim7cuKGf//zneuCBB7Rjxw6Fw2G9/PLLDS2eCGx2jNAAG9jE\nxIQymYzK5bJOnjypaDSqWCymUCikoaEhSTNLzlcqFR09elQtLS1OQc3aUvTxeNyprXLq1Cn19PQo\nkUjo4MGDzrbZx/T19WlgYECmaS7aVq1Q6u7du50K94uVFyiXy0v2q/b+kUjEab/2vrUCtIlEwllU\n8lbbZ8eaTCaVSCQUDAbnnINisahcLqfx8XHF43EFAoE5cRSLRZ06dUodHR1KJBLat2/fnJjXanQJ\n2KxIaIANrK2tTYlEwln98/z585L+vW5OrSDrrl275hxXK4Za275YwcPaVFBt2+z/G4axZFu1+izV\nalXFYlGS5rRVU6tVND8uaWY6JxKJqKWlRYcOHZrzvrVj51tu++xYq9Wqk0zNj6urq0tPP/20RkdH\nlcvlFsSxXPXn2YX7ANQfpQ+ADahW8G10dNQp3ifNlMKoTdcYhuGMUMyvVByLxZTL5dTZ2alcLuf8\nYO/v79fZs2e1b98+BYNBhcNhZ5tlWcpkMhofH9fJkyeVy+UWtFXbv1bArlwuO1M6ixXrrFUql7Ro\nHIVCYU41+lqR1nK5rGg0qnw+L9u2VSqVlt0+/7xks9lFz8Frr72m/fv3q62tTbFYTP39/fr+97/v\nxHH8+HElk0kVCgVls1kZhqGWlhZZluWMDAFoDEofAKiLZ555RqdPn67re6bTabW0tCx6f00zGR4e\nvmUFaQCrw5QTgFXLZDKLThutVmdnp/L5fF3fc61ZluWrwrDARsUIDQAAaHqM0AAAgKZHQgMAAJoe\nCQ0AAGh6JDQAAKDpkdAAAICmR0IDAACa3v8HaksyYve9sWkAAAAASUVORK5CYII=\n",
      "text/plain": [
       "<matplotlib.figure.Figure at 0x112e1c9d0>"
      ]
     },
     "metadata": {},
     "output_type": "display_data"
    }
   ],
   "source": [
    "# looking at a specific list of terms:\n",
    "terms = ['we', 'board', 'thing', 'bp', 'manic', 'mania', 'hypomania', 'hypomanic', 'pdoc', 'tdoc']\n",
    "\n",
    "sel_terms = editor(com_in_vet.results, just_entries = terms, sort_by = 'total')\n",
    "sel_terms.results.index = ['New members', 'Veteran members']\n",
    "\n",
    "plotter('Common participants in veteran posts', sel_terms.results.T,\n",
    "         y_label = 'Percentage of all participants', style = 'seaborn-paper', black_and_white = False,\n",
    "         kind = 'bar', rot = False, x_label = 'Participant (lemmatised)', save = 'comm_in_vet_selected_fixed')"
   ]
  },
  {
   "cell_type": "markdown",
   "metadata": {},
   "source": [
    "## Tense of *things*\n",
    "\n",
    "*Thing(s)* is more common in veteran posts. Let's look at the tense of clauses with *thing(s)* as subject:\n"
   ]
  },
  {
   "cell_type": "code",
   "execution_count": 7,
   "metadata": {
    "collapsed": false
   },
   "outputs": [
    {
     "data": {
      "text/html": [
       "<div>\n",
       "<table border=\"1\" class=\"dataframe\">\n",
       "  <thead>\n",
       "    <tr style=\"text-align: right;\">\n",
       "      <th></th>\n",
       "      <th>f</th>\n",
       "      <th>l</th>\n",
       "      <th>m</th>\n",
       "      <th>r</th>\n",
       "    </tr>\n",
       "  </thead>\n",
       "  <tbody>\n",
       "    <tr>\n",
       "      <th>0</th>\n",
       "      <td>user-missedthemark-2.txt.xml</td>\n",
       "      <td>These</td>\n",
       "      <td>things</td>\n",
       "      <td>we went through were not good and were not no...</td>\n",
       "    </tr>\n",
       "    <tr>\n",
       "      <th>1</th>\n",
       "      <td>user-Picali-3.txt.xml</td>\n",
       "      <td>I personally think that this is rubbish as I r...</td>\n",
       "      <td>things</td>\n",
       "      <td>are really bad, and so did a lot of people I ...</td>\n",
       "    </tr>\n",
       "    <tr>\n",
       "      <th>2</th>\n",
       "      <td>user-lkavaloff-3.txt.xml</td>\n",
       "      <td>I have now been with my wonderful fiance now f...</td>\n",
       "      <td>things</td>\n",
       "      <td>have been going well off anf on.</td>\n",
       "    </tr>\n",
       "    <tr>\n",
       "      <th>3</th>\n",
       "      <td>user-mole_hair-2.txt.xml</td>\n",
       "      <td>I really do love my wife with all my heart and...</td>\n",
       "      <td>things</td>\n",
       "      <td>she has done over the course of this illness ...</td>\n",
       "    </tr>\n",
       "    <tr>\n",
       "      <th>4</th>\n",
       "      <td>user-patience-2.txt.xml</td>\n",
       "      <td>i finally have</td>\n",
       "      <td>things</td>\n",
       "      <td>straightened out and started taking my depako...</td>\n",
       "    </tr>\n",
       "    <tr>\n",
       "      <th>5</th>\n",
       "      <td>user-AussieTam-2.txt.xml</td>\n",
       "      <td>Seriously, best</td>\n",
       "      <td>thing</td>\n",
       "      <td>I 've done.</td>\n",
       "    </tr>\n",
       "    <tr>\n",
       "      <th>6</th>\n",
       "      <td>user-mole_hair-3.txt.xml</td>\n",
       "      <td></td>\n",
       "      <td>Things</td>\n",
       "      <td>have changed a lot, but at times the support ...</td>\n",
       "    </tr>\n",
       "    <tr>\n",
       "      <th>7</th>\n",
       "      <td>user-iJuggle-3.txt.xml</td>\n",
       "      <td>Then it evolved into nightmares even when I di...</td>\n",
       "      <td>thing</td>\n",
       "      <td>was gradually replaced with extremely graphic...</td>\n",
       "    </tr>\n",
       "    <tr>\n",
       "      <th>8</th>\n",
       "      <td>user-Kari7171-3.txt.xml</td>\n",
       "      <td>She quit her job because she did not like some...</td>\n",
       "      <td>things</td>\n",
       "      <td>were handled.</td>\n",
       "    </tr>\n",
       "    <tr>\n",
       "      <th>9</th>\n",
       "      <td>user-kel83-2.txt.xml</td>\n",
       "      <td></td>\n",
       "      <td>Things</td>\n",
       "      <td>your close family members have or have not do...</td>\n",
       "    </tr>\n",
       "    <tr>\n",
       "      <th>10</th>\n",
       "      <td>user-leomia-3.txt.xml</td>\n",
       "      <td>If</td>\n",
       "      <td>things</td>\n",
       "      <td>don't get done, maybe there is someone to ask...</td>\n",
       "    </tr>\n",
       "    <tr>\n",
       "      <th>11</th>\n",
       "      <td>user-soucie-3.txt.xml</td>\n",
       "      <td>My big</td>\n",
       "      <td>thing</td>\n",
       "      <td>has been organizing my iTunes library.</td>\n",
       "    </tr>\n",
       "    <tr>\n",
       "      <th>12</th>\n",
       "      <td>user-loopyturtle-3.txt.xml</td>\n",
       "      <td></td>\n",
       "      <td>Things</td>\n",
       "      <td>snowballed and ended up with me just walking ...</td>\n",
       "    </tr>\n",
       "    <tr>\n",
       "      <th>13</th>\n",
       "      <td>user-Lizzers4u-3.txt.xml</td>\n",
       "      <td>Really when you look at it a few</td>\n",
       "      <td>things</td>\n",
       "      <td>have just gone wrong in a row.</td>\n",
       "    </tr>\n",
       "    <tr>\n",
       "      <th>14</th>\n",
       "      <td>user-BPAspergerMom-2.txt.xml</td>\n",
       "      <td>For the past six months now</td>\n",
       "      <td>things</td>\n",
       "      <td>have been falling apart, with manic/hypomanic...</td>\n",
       "    </tr>\n",
       "    <tr>\n",
       "      <th>15</th>\n",
       "      <td>user-SleepAllDay-3.txt.xml</td>\n",
       "      <td>These</td>\n",
       "      <td>things</td>\n",
       "      <td>I think have to do with my anxiety, things ar...</td>\n",
       "    </tr>\n",
       "    <tr>\n",
       "      <th>16</th>\n",
       "      <td>user-jacq42-2.txt.xml</td>\n",
       "      <td>my daughter was told for years if she did not ...</td>\n",
       "      <td>things</td>\n",
       "      <td>would have been a lot better by now.</td>\n",
       "    </tr>\n",
       "    <tr>\n",
       "      <th>17</th>\n",
       "      <td>user-thisISmyYEAR-2.txt.xml</td>\n",
       "      <td>But one</td>\n",
       "      <td>thing</td>\n",
       "      <td>I do know, she may not be here for the long h...</td>\n",
       "    </tr>\n",
       "    <tr>\n",
       "      <th>18</th>\n",
       "      <td>user-CrzyBeautiful-2.txt.xml</td>\n",
       "      <td>But that's another thing I 've grown from and</td>\n",
       "      <td>things</td>\n",
       "      <td>have gotten so much better.</td>\n",
       "    </tr>\n",
       "    <tr>\n",
       "      <th>19</th>\n",
       "      <td>user-BP-2-2.txt.xml</td>\n",
       "      <td>Lamictal was added to my diet and</td>\n",
       "      <td>things</td>\n",
       "      <td>have been looking up ever since.</td>\n",
       "    </tr>\n",
       "    <tr>\n",
       "      <th>20</th>\n",
       "      <td>user-jeneration2007-3.txt.xml</td>\n",
       "      <td>The best</td>\n",
       "      <td>thing</td>\n",
       "      <td>for me has been confiding in someone I trust ...</td>\n",
       "    </tr>\n",
       "    <tr>\n",
       "      <th>21</th>\n",
       "      <td>user-Brightday-3.txt.xml</td>\n",
       "      <td>-LRB- like popular notions of ``madness '', st...</td>\n",
       "      <td>things</td>\n",
       "      <td>you 've read about the condition. -RRB-</td>\n",
       "    </tr>\n",
       "    <tr>\n",
       "      <th>22</th>\n",
       "      <td>user-tUrRrRa-3.txt.xml</td>\n",
       "      <td>Other</td>\n",
       "      <td>things</td>\n",
       "      <td>I'm laughing and excited sometimes for no rea...</td>\n",
       "    </tr>\n",
       "    <tr>\n",
       "      <th>23</th>\n",
       "      <td>user-pom-3.txt.xml</td>\n",
       "      <td>This crisis she is in, and not having her old ...</td>\n",
       "      <td>thing</td>\n",
       "      <td>has just made everything more difficult to un...</td>\n",
       "    </tr>\n",
       "    <tr>\n",
       "      <th>24</th>\n",
       "      <td>user-ghelpmelivelife-3.txt.xml</td>\n",
       "      <td>Advice, because bad</td>\n",
       "      <td>things</td>\n",
       "      <td>- i mean really bad things have happened to m...</td>\n",
       "    </tr>\n",
       "    <tr>\n",
       "      <th>25</th>\n",
       "      <td>user-mm9221-2.txt.xml</td>\n",
       "      <td>The sleeping</td>\n",
       "      <td>things</td>\n",
       "      <td>has been an ongoing battle for me, I truely u...</td>\n",
       "    </tr>\n",
       "    <tr>\n",
       "      <th>26</th>\n",
       "      <td>user-jessy333-3.txt.xml</td>\n",
       "      <td>Then</td>\n",
       "      <td>things</td>\n",
       "      <td>have been relatively quiet for the last coupl...</td>\n",
       "    </tr>\n",
       "    <tr>\n",
       "      <th>27</th>\n",
       "      <td>user-somerlass-2.txt.xml</td>\n",
       "      <td>I know this is a massive massive step he has t...</td>\n",
       "      <td>things</td>\n",
       "      <td>have got and to admit he needs help... so ple...</td>\n",
       "    </tr>\n",
       "    <tr>\n",
       "      <th>28</th>\n",
       "      <td>user-louise111-3.txt.xml</td>\n",
       "      <td></td>\n",
       "      <td>Things</td>\n",
       "      <td>have changed.</td>\n",
       "    </tr>\n",
       "    <tr>\n",
       "      <th>29</th>\n",
       "      <td>user-mp31318-2.txt.xml</td>\n",
       "      <td>That gave me a full feeling in my brain, press...</td>\n",
       "      <td>things</td>\n",
       "      <td>have been a wreck, but it seems like things h...</td>\n",
       "    </tr>\n",
       "    <tr>\n",
       "      <th>30</th>\n",
       "      <td>user-Dutches-2.txt.xml</td>\n",
       "      <td>Many other</td>\n",
       "      <td>things</td>\n",
       "      <td>were said but those broke my heart.</td>\n",
       "    </tr>\n",
       "    <tr>\n",
       "      <th>31</th>\n",
       "      <td>user-oldwheat-2.txt.xml</td>\n",
       "      <td>I am feeling a bit down about this and</td>\n",
       "      <td>things</td>\n",
       "      <td>have been tough in the marriage dept..</td>\n",
       "    </tr>\n",
       "    <tr>\n",
       "      <th>32</th>\n",
       "      <td>user-avour-3.txt.xml</td>\n",
       "      <td>---------- Good</td>\n",
       "      <td>thing</td>\n",
       "      <td>since I am poised to delete at your command.</td>\n",
       "    </tr>\n",
       "    <tr>\n",
       "      <th>33</th>\n",
       "      <td>user-soultrek-2.txt.xml</td>\n",
       "      <td>It's the ruining of the friendship and the way</td>\n",
       "      <td>things</td>\n",
       "      <td>were left that's got me more bothered.</td>\n",
       "    </tr>\n",
       "    <tr>\n",
       "      <th>34</th>\n",
       "      <td>user-veljul-3.txt.xml</td>\n",
       "      <td>I look back over the times where</td>\n",
       "      <td>things</td>\n",
       "      <td>have gone awry and it has always worked out t...</td>\n",
       "    </tr>\n",
       "    <tr>\n",
       "      <th>35</th>\n",
       "      <td>user-pixiebexy-2.txt.xml</td>\n",
       "      <td>I often have this problem when running a bath ...</td>\n",
       "      <td>things</td>\n",
       "      <td>such as you have described or church bells an...</td>\n",
       "    </tr>\n",
       "    <tr>\n",
       "      <th>36</th>\n",
       "      <td>user-topaz865-3.txt.xml</td>\n",
       "      <td>hi all thanks for your replys a new update now...</td>\n",
       "      <td>things</td>\n",
       "      <td>have got bad again i don't know from one min ...</td>\n",
       "    </tr>\n",
       "    <tr>\n",
       "      <th>37</th>\n",
       "      <td>user-Sleestak-3.txt.xml</td>\n",
       "      <td>Try to do what you feel must be done and live ...</td>\n",
       "      <td>things</td>\n",
       "      <td>will just stay undone.</td>\n",
       "    </tr>\n",
       "    <tr>\n",
       "      <th>38</th>\n",
       "      <td>user-subway13-2.txt.xml</td>\n",
       "      <td>I guess he gave her some zyprexa or something ...</td>\n",
       "      <td>things</td>\n",
       "      <td>will get fixed again.</td>\n",
       "    </tr>\n",
       "    <tr>\n",
       "      <th>39</th>\n",
       "      <td>user-FunnyFreckles-3.txt.xml</td>\n",
       "      <td>Two</td>\n",
       "      <td>things</td>\n",
       "      <td>have helped me.</td>\n",
       "    </tr>\n",
       "    <tr>\n",
       "      <th>40</th>\n",
       "      <td>user-vikki140581-2.txt.xml</td>\n",
       "      <td>I can barely finish a thought in my head and I...</td>\n",
       "      <td>things</td>\n",
       "      <td>have happened or if I 've dreamt them.</td>\n",
       "    </tr>\n",
       "    <tr>\n",
       "      <th>41</th>\n",
       "      <td>user-Lonely810810-2.txt.xml</td>\n",
       "      <td>seems to think the lump is all in my head.Coul...</td>\n",
       "      <td>things</td>\n",
       "      <td>actually be caused from my psycosis &amp;gt; ?</td>\n",
       "    </tr>\n",
       "    <tr>\n",
       "      <th>42</th>\n",
       "      <td>user-SweetDeanie-3.txt.xml</td>\n",
       "      <td></td>\n",
       "      <td>Things</td>\n",
       "      <td>pretty much detiorated and began to change ho...</td>\n",
       "    </tr>\n",
       "    <tr>\n",
       "      <th>43</th>\n",
       "      <td>user-smile914-3.txt.xml</td>\n",
       "      <td>These two</td>\n",
       "      <td>things</td>\n",
       "      <td>have been very tough for me.</td>\n",
       "    </tr>\n",
       "    <tr>\n",
       "      <th>44</th>\n",
       "      <td>user-justanother-2.txt.xml</td>\n",
       "      <td>I honestly think the medication has nothing to...</td>\n",
       "      <td>things</td>\n",
       "      <td>are not as bad and have slowed down.</td>\n",
       "    </tr>\n",
       "    <tr>\n",
       "      <th>45</th>\n",
       "      <td>user-AnnaDee-3.txt.xml</td>\n",
       "      <td>She got very down hearted because every</td>\n",
       "      <td>thing</td>\n",
       "      <td>she had that she loved was gone.</td>\n",
       "    </tr>\n",
       "    <tr>\n",
       "      <th>46</th>\n",
       "      <td>user-flatts-3.txt.xml</td>\n",
       "      <td>I 've actually been taking fish oil for the la...</td>\n",
       "      <td>things</td>\n",
       "      <td>would have been worse.</td>\n",
       "    </tr>\n",
       "    <tr>\n",
       "      <th>47</th>\n",
       "      <td>user-Misindale-2.txt.xml</td>\n",
       "      <td></td>\n",
       "      <td>Things</td>\n",
       "      <td>have never gotten so bad where I would want t...</td>\n",
       "    </tr>\n",
       "    <tr>\n",
       "      <th>48</th>\n",
       "      <td>user-Gambletx-2.txt.xml</td>\n",
       "      <td>-LRB- granted, some</td>\n",
       "      <td>things</td>\n",
       "      <td>in your life probably have changed for the be...</td>\n",
       "    </tr>\n",
       "    <tr>\n",
       "      <th>49</th>\n",
       "      <td>user-Cizz-2.txt.xml</td>\n",
       "      <td></td>\n",
       "      <td>Things</td>\n",
       "      <td>have definatly turned around for me, but yet ...</td>\n",
       "    </tr>\n",
       "    <tr>\n",
       "      <th>50</th>\n",
       "      <td>user-LurchMomma-2.txt.xml</td>\n",
       "      <td>If you would stop shutting me out of everythin...</td>\n",
       "      <td>things</td>\n",
       "      <td>wouldn't have gotten this bad.</td>\n",
       "    </tr>\n",
       "    <tr>\n",
       "      <th>51</th>\n",
       "      <td>user-cujo25-2.txt.xml</td>\n",
       "      <td>She took herself off her meds about a week or ...</td>\n",
       "      <td>things</td>\n",
       "      <td>have been weird lately, she does the whole of...</td>\n",
       "    </tr>\n",
       "    <tr>\n",
       "      <th>52</th>\n",
       "      <td>user-crmun-3.txt.xml</td>\n",
       "      <td></td>\n",
       "      <td>Things</td>\n",
       "      <td>haven't been the same, since.</td>\n",
       "    </tr>\n",
       "    <tr>\n",
       "      <th>53</th>\n",
       "      <td>user-tazmom19987-2.txt.xml</td>\n",
       "      <td>I am trying not to preach and I may come off w...</td>\n",
       "      <td>things</td>\n",
       "      <td>could have been better if I tried a different...</td>\n",
       "    </tr>\n",
       "    <tr>\n",
       "      <th>54</th>\n",
       "      <td>user-hopeless_gurl-2.txt.xml</td>\n",
       "      <td>observe the way</td>\n",
       "      <td>things</td>\n",
       "      <td>are done and use your creativity and problem ...</td>\n",
       "    </tr>\n",
       "    <tr>\n",
       "      <th>55</th>\n",
       "      <td>user-Lizzers4u-3.txt.xml</td>\n",
       "      <td>Of course</td>\n",
       "      <td>things</td>\n",
       "      <td>have been a little rough lately, but just bec...</td>\n",
       "    </tr>\n",
       "    <tr>\n",
       "      <th>56</th>\n",
       "      <td>user-Married_1-2.txt.xml</td>\n",
       "      <td>Thankfully,</td>\n",
       "      <td>things</td>\n",
       "      <td>have settled some and I can take a little tim...</td>\n",
       "    </tr>\n",
       "    <tr>\n",
       "      <th>57</th>\n",
       "      <td>user-Evie70-2.txt.xml</td>\n",
       "      <td>I 've learned what it is now - in fact that wa...</td>\n",
       "      <td>things</td>\n",
       "      <td>are just better left alone... ya ' know ?</td>\n",
       "    </tr>\n",
       "    <tr>\n",
       "      <th>58</th>\n",
       "      <td>user-moon&amp;tree-2.txt.xml</td>\n",
       "      <td>I have been advised to keep my stress levels d...</td>\n",
       "      <td>things</td>\n",
       "      <td>are greatly challenged when one is caring for...</td>\n",
       "    </tr>\n",
       "  </tbody>\n",
       "</table>\n",
       "</div>"
      ],
      "text/plain": [
       "                                 f  \\\n",
       "0     user-missedthemark-2.txt.xml   \n",
       "1            user-Picali-3.txt.xml   \n",
       "2         user-lkavaloff-3.txt.xml   \n",
       "3         user-mole_hair-2.txt.xml   \n",
       "4          user-patience-2.txt.xml   \n",
       "5         user-AussieTam-2.txt.xml   \n",
       "6         user-mole_hair-3.txt.xml   \n",
       "7           user-iJuggle-3.txt.xml   \n",
       "8          user-Kari7171-3.txt.xml   \n",
       "9             user-kel83-2.txt.xml   \n",
       "10           user-leomia-3.txt.xml   \n",
       "11           user-soucie-3.txt.xml   \n",
       "12      user-loopyturtle-3.txt.xml   \n",
       "13        user-Lizzers4u-3.txt.xml   \n",
       "14    user-BPAspergerMom-2.txt.xml   \n",
       "15      user-SleepAllDay-3.txt.xml   \n",
       "16           user-jacq42-2.txt.xml   \n",
       "17     user-thisISmyYEAR-2.txt.xml   \n",
       "18    user-CrzyBeautiful-2.txt.xml   \n",
       "19             user-BP-2-2.txt.xml   \n",
       "20   user-jeneration2007-3.txt.xml   \n",
       "21        user-Brightday-3.txt.xml   \n",
       "22          user-tUrRrRa-3.txt.xml   \n",
       "23              user-pom-3.txt.xml   \n",
       "24  user-ghelpmelivelife-3.txt.xml   \n",
       "25           user-mm9221-2.txt.xml   \n",
       "26         user-jessy333-3.txt.xml   \n",
       "27        user-somerlass-2.txt.xml   \n",
       "28        user-louise111-3.txt.xml   \n",
       "29          user-mp31318-2.txt.xml   \n",
       "30          user-Dutches-2.txt.xml   \n",
       "31         user-oldwheat-2.txt.xml   \n",
       "32            user-avour-3.txt.xml   \n",
       "33         user-soultrek-2.txt.xml   \n",
       "34           user-veljul-3.txt.xml   \n",
       "35        user-pixiebexy-2.txt.xml   \n",
       "36         user-topaz865-3.txt.xml   \n",
       "37         user-Sleestak-3.txt.xml   \n",
       "38         user-subway13-2.txt.xml   \n",
       "39    user-FunnyFreckles-3.txt.xml   \n",
       "40      user-vikki140581-2.txt.xml   \n",
       "41     user-Lonely810810-2.txt.xml   \n",
       "42      user-SweetDeanie-3.txt.xml   \n",
       "43         user-smile914-3.txt.xml   \n",
       "44      user-justanother-2.txt.xml   \n",
       "45          user-AnnaDee-3.txt.xml   \n",
       "46           user-flatts-3.txt.xml   \n",
       "47        user-Misindale-2.txt.xml   \n",
       "48         user-Gambletx-2.txt.xml   \n",
       "49             user-Cizz-2.txt.xml   \n",
       "50       user-LurchMomma-2.txt.xml   \n",
       "51           user-cujo25-2.txt.xml   \n",
       "52            user-crmun-3.txt.xml   \n",
       "53      user-tazmom19987-2.txt.xml   \n",
       "54    user-hopeless_gurl-2.txt.xml   \n",
       "55        user-Lizzers4u-3.txt.xml   \n",
       "56        user-Married_1-2.txt.xml   \n",
       "57           user-Evie70-2.txt.xml   \n",
       "58        user-moon&tree-2.txt.xml   \n",
       "\n",
       "                                                    l       m  \\\n",
       "0                                              These   things   \n",
       "1   I personally think that this is rubbish as I r...  things   \n",
       "2   I have now been with my wonderful fiance now f...  things   \n",
       "3   I really do love my wife with all my heart and...  things   \n",
       "4                                     i finally have   things   \n",
       "5                                    Seriously, best    thing   \n",
       "6                                                      Things   \n",
       "7   Then it evolved into nightmares even when I di...   thing   \n",
       "8   She quit her job because she did not like some...  things   \n",
       "9                                                      Things   \n",
       "10                                                If   things   \n",
       "11                                            My big    thing   \n",
       "12                                                     Things   \n",
       "13                  Really when you look at it a few   things   \n",
       "14                       For the past six months now   things   \n",
       "15                                             These   things   \n",
       "16  my daughter was told for years if she did not ...  things   \n",
       "17                                           But one    thing   \n",
       "18     But that's another thing I 've grown from and   things   \n",
       "19                 Lamictal was added to my diet and   things   \n",
       "20                                          The best    thing   \n",
       "21  -LRB- like popular notions of ``madness '', st...  things   \n",
       "22                                             Other   things   \n",
       "23  This crisis she is in, and not having her old ...   thing   \n",
       "24                               Advice, because bad   things   \n",
       "25                                      The sleeping   things   \n",
       "26                                              Then   things   \n",
       "27  I know this is a massive massive step he has t...  things   \n",
       "28                                                     Things   \n",
       "29  That gave me a full feeling in my brain, press...  things   \n",
       "30                                        Many other   things   \n",
       "31            I am feeling a bit down about this and   things   \n",
       "32                                   ---------- Good    thing   \n",
       "33    It's the ruining of the friendship and the way   things   \n",
       "34                  I look back over the times where   things   \n",
       "35  I often have this problem when running a bath ...  things   \n",
       "36  hi all thanks for your replys a new update now...  things   \n",
       "37  Try to do what you feel must be done and live ...  things   \n",
       "38  I guess he gave her some zyprexa or something ...  things   \n",
       "39                                               Two   things   \n",
       "40  I can barely finish a thought in my head and I...  things   \n",
       "41  seems to think the lump is all in my head.Coul...  things   \n",
       "42                                                     Things   \n",
       "43                                         These two   things   \n",
       "44  I honestly think the medication has nothing to...  things   \n",
       "45           She got very down hearted because every    thing   \n",
       "46  I 've actually been taking fish oil for the la...  things   \n",
       "47                                                     Things   \n",
       "48                               -LRB- granted, some   things   \n",
       "49                                                     Things   \n",
       "50  If you would stop shutting me out of everythin...  things   \n",
       "51  She took herself off her meds about a week or ...  things   \n",
       "52                                                     Things   \n",
       "53  I am trying not to preach and I may come off w...  things   \n",
       "54                                   observe the way   things   \n",
       "55                                         Of course   things   \n",
       "56                                       Thankfully,   things   \n",
       "57  I 've learned what it is now - in fact that wa...  things   \n",
       "58  I have been advised to keep my stress levels d...  things   \n",
       "\n",
       "                                                    r  \n",
       "0    we went through were not good and were not no...  \n",
       "1    are really bad, and so did a lot of people I ...  \n",
       "2                    have been going well off anf on.  \n",
       "3    she has done over the course of this illness ...  \n",
       "4    straightened out and started taking my depako...  \n",
       "5                                         I 've done.  \n",
       "6    have changed a lot, but at times the support ...  \n",
       "7    was gradually replaced with extremely graphic...  \n",
       "8                                       were handled.  \n",
       "9    your close family members have or have not do...  \n",
       "10   don't get done, maybe there is someone to ask...  \n",
       "11             has been organizing my iTunes library.  \n",
       "12   snowballed and ended up with me just walking ...  \n",
       "13                     have just gone wrong in a row.  \n",
       "14   have been falling apart, with manic/hypomanic...  \n",
       "15   I think have to do with my anxiety, things ar...  \n",
       "16               would have been a lot better by now.  \n",
       "17   I do know, she may not be here for the long h...  \n",
       "18                        have gotten so much better.  \n",
       "19                   have been looking up ever since.  \n",
       "20   for me has been confiding in someone I trust ...  \n",
       "21            you 've read about the condition. -RRB-  \n",
       "22   I'm laughing and excited sometimes for no rea...  \n",
       "23   has just made everything more difficult to un...  \n",
       "24   - i mean really bad things have happened to m...  \n",
       "25   has been an ongoing battle for me, I truely u...  \n",
       "26   have been relatively quiet for the last coupl...  \n",
       "27   have got and to admit he needs help... so ple...  \n",
       "28                                      have changed.  \n",
       "29   have been a wreck, but it seems like things h...  \n",
       "30                were said but those broke my heart.  \n",
       "31             have been tough in the marriage dept..  \n",
       "32       since I am poised to delete at your command.  \n",
       "33             were left that's got me more bothered.  \n",
       "34   have gone awry and it has always worked out t...  \n",
       "35   such as you have described or church bells an...  \n",
       "36   have got bad again i don't know from one min ...  \n",
       "37                             will just stay undone.  \n",
       "38                              will get fixed again.  \n",
       "39                                    have helped me.  \n",
       "40             have happened or if I 've dreamt them.  \n",
       "41         actually be caused from my psycosis &gt; ?  \n",
       "42   pretty much detiorated and began to change ho...  \n",
       "43                       have been very tough for me.  \n",
       "44               are not as bad and have slowed down.  \n",
       "45                   she had that she loved was gone.  \n",
       "46                             would have been worse.  \n",
       "47   have never gotten so bad where I would want t...  \n",
       "48   in your life probably have changed for the be...  \n",
       "49   have definatly turned around for me, but yet ...  \n",
       "50                     wouldn't have gotten this bad.  \n",
       "51   have been weird lately, she does the whole of...  \n",
       "52                      haven't been the same, since.  \n",
       "53   could have been better if I tried a different...  \n",
       "54   are done and use your creativity and problem ...  \n",
       "55   have been a little rough lately, but just bec...  \n",
       "56   have settled some and I can take a little tim...  \n",
       "57          are just better left alone... ya ' know ?  \n",
       "58   are greatly challenged when one is caring for...  "
      ]
     },
     "execution_count": 7,
     "metadata": {},
     "output_type": "execute_result"
    }
   ],
   "source": [
    "tq = r'/(?i)^things?/ >># (NP $ (VP <+(VP) (VP < /VB(D|N)/)))'\n",
    "lines = conc('../new_thesis/data/postcounts-parsed/02', 't', tq, print_output = False)\n",
    "lines"
   ]
  },
  {
   "cell_type": "code",
   "execution_count": 3,
   "metadata": {
    "collapsed": false
   },
   "outputs": [
    {
     "name": "stdout",
     "output_type": "stream",
     "text": [
      "\n",
      "20:27:53: Beginning 2 parallel corpus interrogations: postcounts-parsed\n",
      "          Queries: '/(?i)^things?$/ >># (NP $ (VP <+(VP) (VP < /VB(D|N)/)))', '/(?i)^things?$/ >># (NP $ (VP !<+(VP) (VP < /VBN/) !<+(VP) (VP < /VBN/)))'\n",
      "          Interrogating corpus ... \n",
      "\n",
      "\n",
      "20:27:53: QUEUED: Past\n",
      "20:27:53: QUEUED: Present\n",
      "\n",
      "\n",
      "\n",
      "\n",
      "\n",
      "\n",
      "20:31:26: [********************100% (Present: 10/10)*****************] \n",
      "\n",
      "20:31:48: Data saved: saved_interrogations/thingtense.p\n",
      "\n"
     ]
    }
   ],
   "source": [
    "q = {'Past': r'/(?i)^things?$/ >># (NP $ (VP <+(VP) (VP < /VB(D|N)/)))',\n",
    "     'Present':    r'/(?i)^things?$/ >># (NP $ (VP !<+(VP) (VP < /VBN/) !<+(VP) (VP < /VBN/)))'}\n",
    "thn = interrogator(corpus, 't', q, show = 'c', quicksave = 'thingtense')"
   ]
  },
  {
   "cell_type": "code",
   "execution_count": 27,
   "metadata": {
    "collapsed": false
   },
   "outputs": [
    {
     "name": "stdout",
     "output_type": "stream",
     "text": [
      "\n",
      "***Processing results***\n",
      "========================\n",
      "\n",
      "***Done!***\n",
      "========================\n",
      "\n",
      "\n",
      "22:48:40: images/things_clauses_bw.png created.\n"
     ]
    },
    {
     "data": {
      "image/png": "iVBORw0KGgoAAAANSUhEUgAAAfAAAAEYCAYAAACju6QJAAAABHNCSVQICAgIfAhkiAAAAAlwSFlz\nAAALEgAACxIB0t1+/AAAIABJREFUeJzt3Xl4VdWh9/FvyAQhEyGRWUkEFxDmwXrt22sBodY6M6lt\ntb4qqLW21wm81/b2etuiSG/76Nuq4HDV1osSAZWrVgG12lYlyiTDAkJASFCmjATIwHn/2DuHc3IC\nOQk5nCG/z/PkycnZ6+yzVqbfXmvvvVacx+NBREREokuncFdAREREWk8BLiIiEoUU4CIiIlFIAS4i\nIhKFFOAiIiJRSAEuIiIShRTgIiIiUSgh3BUQEX/GmPuAMqAYeBe4GDgXyLDWzg9DPXZYa1c12fak\ntfY2Y0wu8JS1dnKT7ROavkZE2pcCXCTyFFlrlwAYY4rcIFxljLnmDNdjnLV2+km2dfN5/FnTjQpv\nkdCL00xsIpHLGLPNWjvQfZyL0xvfAYwGVgALgfuBMe7XWcAh9/NBoML3NdbaR5t5jwxgOlAIjLXW\nLnTfazFwi7V2bZPy9wF5wCPAJPdxIYC19lVjzBSc8J9jjLnVrdtTwAxr7Ryf95zp1quxbK7brm7W\n2qdP+5snEuN0DlwkeszGCeWDgMdauwY46PZ2PwfG4oTpTLdMcdPXnGS/jwCr3f0dMsbca60txhkJ\nWHuy11hrd+KE81ygHPAYY9JxQtn38XZ333k+r1+IE+o7gO3ucxe7H4XBf0tEOi4FuEhki/N57ME5\nH70WWNDM9kxgNTAHp2d88Ule05QHJ4BP9d6+xllrd7o95m7W2kpgGs5BRBwwA3jZfTwaWOH2uA8Z\nY/q7+8hwX3cxzsgBOMG9AJh1kvcVER8KcJEIZIzJMMZMBHKNMRPc3uwcYIYxZgIw1hgzyt3eHyco\nx+IE4hici98+w+mBe19zkrebDUxtfD9r7Xx336OMMSObKf+pz/n4d93PZThD9BU4BwR57uM89+Ah\nyy2T6ZZf7L7fdPdgIAPIdV+7uLXfL5GOSOfARSQs3NB+2Fp7e7jrIhKN2v0qdJ+LU4qAYvfcFz4X\nxazmxPkzEelg3J53Js6V7LPDXB2RqBWK28hm4twXWmmMeRhY47NtgnveS0Q6KGvtynDXQSQWhOIc\n+DifkM5rsm2GMeYW9/yaiIiItFEoeuAeY0y6G+KNF6zg3payEJxZnIDbmntxfX1DTJyWj4+Po6Eh\n+huidkQWtSOyqB2RIxbaAJCYGH+yuz8ChCLAV+NccVqJc9UpAO6EDi+7wd7tJK/F44Hy8poQVOvM\nysxMUTsiiNoRWdSOyBIL7YiFNgDk5KQFXTYUAb4QmGmMKQPmuhevTQEKgHHu17pwRURE5DS0e4C7\n9342na6xcQGGne39fiIiIh2RJnIRERGJQgpwERGRKKTlREVEJKr94x9/4667bqNz5y707duPPn36\n0a9fP/r06UvfvmfTt29fevbsRUJCbEVebLXmNGzduoWf/3wO99//b1RVVVJaWsL119/Qru9RWlpC\n79592nWfIiId2apVK/jxj2/lmWeeJSMjhz17dns/Nm7cwO7duykp2cPBgwfo0aOnG+r9fD760qeP\n8zg1NTXczWkVBbjrvPMG0adPX8aMGQfAo4/+hm3bLAMHmnbZf2lpCe+/v7LdDwpERDqq5ctf5/77\nf8bzzy9i8uTxlJfXkJ8/tNmytbW1lJaWUFKyh927v6SkZA/r1q1h+fLXKCnZQ0nJHpKTk7099sCe\nfD9ycs6iU6fIOfOsAPfhO4NMVVUVvXv34f33V7J69SfExcVx/fU3UFj4KXFxcYwZM47S0hIAtm61\nfPvbE/y2rV5dzOuvL+eqq6Zg7WZ69+7Dli2b2/WgQESko1q8eBG//OWDLFq0hOHDm1s0z19SUhL9\n++fSv39us9s9Hg8HDx5kz54v2bNnDyUlTi++sPBT9uzZTUnJbqqqqujVqzf9+p3t15Pv06cv/fr1\no3fvvnTu3Lm9m3pSURfg//zP32DLls1tfv2gQYP5618/aXZbZWUln322mqqqSn74wx/RtWsqY8c6\n73fbbXfy85/P4YYbbqKy0hli37p1C5WVlUyYcDFPPPG4d9vevaVccME/8cEHHzJmzDhWrXqX8eMv\nprS0VOEtInKann/+Wf7rv+axZMlyjBnULvuMi4sjOzub7OxsRo4c3WyZmpoaSktL/Ibp//73jygp\n2cOePbvZu7eUjIxMtwffGPJ9/Xr13bplERcX9GRrpxR1AX6y8G0P6enp3iH0ps+D8wPu3bsPAwca\nqqurveezn3jicb9thw9XA9C1a2qTfXjYu7eUXr16h6wNIiKx7I9/fJxnn13AsmVvkpvbdLmN0EpJ\nSWHAgIEMGDCw2e0NDQ3s37/PO0S/e/duduwo4sMPP/Cei6+rq3PPuzftwTuBn5PT/CmA5kRdgIfK\n1q1b2Lu3NGCIu7DwE7Zs2czhw9XcfvtPeO21JRgzmF69evP++ysxZjDnn38BY8ee793Wu3cfdu8u\nYts2S2lpCdY6PfXGnrsCXESkdTweD/PnP8ySJYt57bW36NOnb7irFCA+Pp6ePXvRs2cvxo37RrNl\nqqoqvUP0jaG+atW77Nmzxx2q3xP0+8VF2sohdXUNnliYzzZW5uVVOyKL2hFZ1I4zw+Px8MtfPsgH\nH7zHK68s46yzzgooE+ltCFZOTlpYFzMRERFpF8ePH+f+++/miy/WsXTpcrp1ywp3lSKGAlxERCJS\nfX09d911O6WlJRQUvE5qavArdXUECnAREYk4x44dY9as/8vRo0d46aUCUlJSwl2liBM5d6SLiIjg\n3K51ww3XEhcXx/PP/4/C+yQU4CIiEjGqqiq59tpryM7OYeHC/yY5OTncVYpYCnDX1q1bmDHjKj77\nbDXvv7+Sl156ocXXNM7EJiIip6+s7BBTp16BMYN5/PEnY27xkfamAHf5zoX+7W9PpKRkD9u22ZOW\nb5zbXERETt++ffu46qrvceGF32LevP+KqDnHI1XUfYfmzfsNZ52V7vcxb95v2lzOV9O50A8fPszr\nry/lpZdeoLq6msLCTyks/JSXXnqRrVu3eOc2FxGRtisp2cMVV3yHK664il/84qF2m2o01mkiFx83\n3/xD7rjjLqqqKunTpy8DBxref38lpaWl9O7dm9LSUiorK5g4cRJdu6by/vuruP76Hza7r1iZVEDt\niCxqR2RRO07fjh1FTJ9+FTffPIvbb7+zzfuJlZ+FJnJpo6ZzoT/xxONcfPFkUlPTqK6uYvz4iXg8\nHp544nHmzHkQzW0uItJ2W7ZsZsaMq7nnntnccMNN4a5O1Im6IfRQ8Z0LvVHfvv0oLS2htLSEwsJP\neeut5ezdW8r5519A166p3rnNRUSkddatW8OUKZfzi188pPBuIw2hh0isDOeoHZFF7YgsakfbfPLJ\nx9x00/XMn/8Yl156WbvsM1Z+FhpCFxGRiPTBB+9x++0384c/LGT8+Inhrk5U0xC6iIicEW+//Sa3\n334zzz77J4V3O1CAi4hIyC1dWsA999zFSy8VcMEFF4a7OjFBQ+giIhJSf/7zCzzyyK8pKHidwYOH\nhLs6MUMBLiIiIbNgwR958sk/sGzZ/5KXNyDc1YkpCnAREWl3Ho+H3/9+PosW/ZnXXnuLfv3ODneV\nYo4CXERE2pXH4+FXv/ol7777Nq+//jY9evQMd5VikgJcRETazfHjx/nXf72Pzz4rZNmyN8nK6h7u\nKsUsBbiIiLSL+vp67r77JxQX7+DVV18nPT0j3FWKaQpwERE5bbW1tdxxx61UVJSzaNESunbtGu4q\nxTwFuIiInJYjR45wyy03EB+fwIsvvkznzp3DXaUOQRO5iIhIm1VXV/H9708jLS2dZ555QeF9BinA\nRUSkTcrLy5g27Sr698/lD39YQGJiYrir1KEowEVEpNUOHDjANddcztix4/jtbx8jPj4+3FXqcBTg\nIiLSKnv3lnLllZcwefIlPPTQXOLigl4BU9qRLmITEZGg7dq1kylTruBHP7qZO+/8abir06GpBy4i\nIkHZtm0rV175Xe644ycK7wjQ7j1wY0wGMBMoAoqttWuabL8PeMpaW9ne7y0iIqGxYcN6rrtuCg8+\n+Euuvfb74a6OEJoe+EycgF4CzPDd4Ib7WCArBO8rIiIhUFj4KTNmXM3cuY8qvCNIKAJ8nE/vOq/J\ntrHA6hC8p4iIhMBHH/2VG264lscff4LLL78q3NURH6G4iM1jjEl3Qzyz8UljzCigEBh9qhfHx8eR\nmZkSgmqdWfHxndSOCKJ2RBa1I7KcrB1vvfUms2bdzP/8zyIuuujbZ75irRArP4vWCEWAr8YZIq8E\nynyez3WfH+c+/3RzL25o8FBeXhOCap1ZmZkpakcEUTsii9oRWZprxxtvLGP27Ht48cVFjBgxLuLb\nGSs/i5yctKDLhiLAFwIzjTFlwFxjTC4wxVo73z0Hfn8I3lNERNrJokV/5te//g9eeWUZQ4cOC3d1\n5CTaPcCttRXAo02enu+z7Tvt/Z4iItI+nn12IY8//juWLv1fBgwYGO7qyCloIhcREQHgscd+x4sv\nPseyZW9yzjn9w10daYECXESkg/N4PDz88H/yxhuv8frrb9OrV+9wV0mCoAAXEenAPB4P9913D6tW\nvc9rr71NdnZ2uKskQVKAi4h0UEVF2/jtb+exZ88uli5dTkZGZssvkoihudBFRDqQ/fv38/TTT3LJ\nJeO58spLyck5izfffFvhHYXUAxcRiXE1NTX85S9vUlDwMp988jGTJ1/C7NkP8q1vXURCQgKpqbFx\nD3VHowAXEYlBDQ0N/P3vH7F48SLeeut/GT16DFOnzuCpp54jNTU13NWTdqAAFxGJIZs2bWTx4kUs\nWbKY7Owcpk2bwb/927/To0fPcFdN2pkCXEQkyu3dW8qSJQUsXryIiopypk6dwcsvL2XQoMHhrpqE\nkAJcRCQKVVdXsXz56yxe/DIbNqzle9+7gt/8Zh4XXHAhnTrp+uSOQAEuIhIl6urq+OCDVRQUvMyK\nFe9y4YXf5MYbb2Ly5O/SuXPncFdPzjAFuIhIBPN4PKxd+zkFBS+zdOmr9O+fy9SpM/j1rx+le/fu\n4a6ehJECXEQkAu3atZNXX32FgoKXqa+vZ9q0a1m+/B3y8s4Nd9UkQijARUQiRHl5Ga+9tpSCgpfZ\nvn0rV155DY899gRjxowjLi4u3NWTCKMAF5Ez5siRI2zbZunePYOsrJ506dIl3FUKu2PHjrFixTss\nXryIDz/8gPHjJ3LnnT9j/PiJJCUlhbt6EsGCCnBjTLq1ttIYMxLYYa2tDHG9RCSKeTwevv76KzZu\n3MDGjV94P3/55S5yc/Oor6/nyy93kZnZjf79c+nfP5dzzunv8ziX7OzsmO11ejwePvnkYwoKXmb5\n8mUMHpzP1KkzeOyxP5KenhHu6kmUCLYHPtMY8zkwHSgEng5dlUQkmtTW1rJ1q/UJ6y/YtGkDHo+H\n/PxhDBkylPHjL+bOO/+F884zJCcnk5mZwsGDVezdW8quXTvZubOYnTuLeeedt7yP6+rq/YLdN+D7\n9u1HYmJiuJveatu3b6OgYBEFBa/QpUsXpk27lhUrPqRv337hrppEoWADfA0wCZgNjA1ddUQkkh04\ncCCgV71jx3b69Tub/Pyh5OcP4/bbf0x+/jB69ux1yh50fHw8ffv2o2/ffnzzm98K2F5eXuYN9127\ndrJhwzreeGMZu3bt5Ouvv6Jnz94Bwd6/v/M4LS09lN+GVtm/fz/LlhVQUPAyJSUlXHPNNJ577k8M\nHTo8ZkcY5MxozTnwg0A3YBSwMjTVEZFIUF9fT1HR9oCwPnLkCEOG5JOfP5R/+qdvcsstszBmMCkp\nKe1eh8zMbmRmdmPEiFEB22pra9mz50t27iymuNgJ+NWrP2HXLudxly5dmvTc87yPe/bsFfKJThoX\nD1m8eBGffvoJkydfwpw5P/cuHiLSHoL9TcoEyoEyFN4iMaWiotwvpDdu/IKtW7fQo0dP8vOHkZ8/\nlBtvvJn8/KH063d2RPQak5KSyMsbQF7egIBtHo+Hffv2uT13Zzj+o4/+yp/+9Dw7dxZTVVXJ2Wef\n0+ScuxPyZ599TpsnRGloaOBvf/uQxYsX8fbbbzJ69BimTbuWBQv+W4uHSEgEG+DlQJG1tsIY0y2U\nFRKR0Dh+/Dg7d+4ICOuysjIGDRpMfv4wRowYxfXX38CQIUNITU0Ld5XbJC4ujh49etCjRw++8Y0L\nArYfPnzYb2h++/ZtrFz5Ljt3FlNSsoesrO4BF9Y1BnxWVlbAAczGjV9QUPAyS5YsJifnLKZOnc6D\nD/4HPXr0OFNNlg4q2ADPAzzuVeiTgVWhq5JI6zU0NFBeXs6hQwc5ePAghw6d+Dh48CDx8ZCQkExq\naipdu6b6fXY+0tznupKamhaVF0j5qq6uYtOmTX5D4Fu2bCYrK4v8/KEMGTKU6dOvJz8/n/798zrU\n3Nldu3ZlyJB8hgzJD9jW0NBAaWmJ90K6Xbt28uaby71fezweb6j36tWLjz/+O2VlZUyZMp1XXlmG\nMYPC0CLpqIIN8BXAIzjnweeErjoiTk+xsrKCQ4cO+QTxIb9gbhrSFRUVpKenk5XVnays7nTv3t37\nOCfnLNLTUzhwoIzy8nL27NlNdXU1hw8fdj9XUV1d7fNcFQkJCW6gp7mh3nzQ+x8I+JZN876ma9fU\nkB0QeDwedu/+skmvegP79n3NeecZ7xD4lCnTGDIkn4yMzJDUI1bEx8fTr9/Z9Ot3Nt/61kUB28vK\nDnl777t37+Z3v/sdQ4eO6VAHQBI54jweT4uFfO4DH4UzlB6y+8Dr6ho85eU1odr9GZOZmYLa4QTM\n4cPVJwnfQ832lsvLy0hJ6UpWVpb70b3ZYPZ9nJmZecqLg1rTDo/Hw9GjR91QrzpJ0Fd7H1dXV7Xq\ngODEAUBg0Ld0QHD0aCUff1zoDetNmzaSkpLivQK88XNe3rkRfbGU/j4iSyy0IxbaAJCTkxb0RSa6\nD7ydNTQ0sH37NvbvL6Gmppb4+Hg6dYonPr7xI4H4+E7er323JSQ0Let8nZAQ32z5+Pj4M35B0ZEj\nR5rtBfuGctNtCQmJPmGb5Re+w4YN9wvirKzudOvWLawzUMXFxdGlSxe6dOlCTk7Oae+vNQcELY0Q\nZGdnM2jQEPLzh/Hd717GkCFDyc7ObodWi0i00X3gp6Guro6tWy3r169l/fq1rFu3lk2bNtKjRw8G\nDTLU1TXQ0NBAQ8Nxjh9vfNz4UU9Dw3EaGhr8ttXX+3994vFx6uvrm2w7TqdOzR0MdPI5WPDd1qnJ\ngcSJ5xpfm5CQ4FcWjrNv3wFvGNfX19O9e7ZPL/hED/m880xAb7lbt6wOP11mex4QxEovQ0ROX2vG\n2A7Rge8Dr62tZcuWTaxfv45169ayYcNatmzZTO/efRg+fCTDh4/kssuuZOjQYWRkZJ6Rf7Qej4fj\nx4+7wV/f5CDBOWior69vcjBwvMlBxMkOMpxtGRldSU5O9YZy165dI+I2IhGRji7YAD8IfAacC8T8\nArRHjx5l06YvWL9+ndu7Xse2bZZzzunvhvUIpkyZztChQ8N6q01cXJy3Rx2qIWf1+EREIlOwAX4b\nzrnvbji3lMWMmpoaNm7c4A3qdevWUlxcRF7eAEaMGMmwYSO47rofkJ8/LCSzTYmIiLRFUAFurb2t\n8bExZmLoqhNa1dVVfPHFBu/56g0b1rFr107OO28Qw4ePYPTosfzoRzczeHB+m2djEhEROROCXU70\nSZzeN8AOouAceEVFORs2rHeHwdewfv06SktLGDx4CMOGjeDCC/8Pt932Y4wZrDV3RUQk6gQ7hL7Y\nWhuxoX3o0EE3qNexYcM61q1bw759+8jPH8qIESP59rcnctdd9zBw4HlRP8OWiIgIBD+EvhKcCV2A\nsdbasE2lun//fjZscIbAGy8yKysrY9iw4QwfPpLJky/h3nvnMGDAQPc2KBERkdgT7BD6RGCW+6WH\nMzQX+ldf7fVeXNb4+fDhwwwfPoJhw0ZwxRVX8eCD/05u7rmaylBERDqU1iwn+qS1dpUxZkooK/TI\nIw/zwQd/Zf36ddTX13nvsZ427Voeemgu55zTX/chi4hIh9ea1ciKjDHXALkhrA+dO3fm+9+/kXnz\nRtKnT1+FtYiISDOCDfACa22xMeY+nKvQQ+anP/2ZJg4RERFpQVAnjq21xe7nR4F3Q1ojERERadFJ\ne+Du0qEP4Fy0FufzORcYd0ZqJyIiIs065RC6tXZ60+fcYD8pY0wGMBMoAoqttWt8nh+Lcz59RyTf\nVy4iIhLpTjqE3hi8AMaYe40x/d0vuzX/Cq+ZwFPW2iXADJ/nx+L04gtxVjQTERGRNgr25uk11tqd\n7uPMFsqOs9ZWuo+9C5+4Pe5iYKa1dn6raikiIiJ+gr0KfZIxpsh9fD6w5BRlPcaYdDfE/cLevZJ9\nnjHmleaG5wHi4+PIzIz+Vb/i4zupHRFE7YgsakdkiYV2xEIbWivYAJ8LPIIzBD6nhbKrgSygEihr\nfNIY8zDOZDDFxpiT3kve0OCJidvIYmUdbbUjsqgdkUXtiByx0AaAnJy0oMsGOxd6Bc6a4MFYCMw0\nxpQBc92wngosAs41xkwDZgddQxEREQkQbA88aG7YP9rkad+vdfW5iIjIaWr1CiDuimQiIiISRsFO\n5NJIE7mIiIhEgHafyEVERERCL6iJXJooOsnzIiIicoZoLnQREZEopCF0ERGRKNSqIXT3CvSW5kIX\nERGREAvqPnBjzERglvulB1gVshqJiIhIi4K9DzwTZxrU6cArIayPiIiIBCHYAM8DMo0x1+BcxCYi\nIiJhFGyAF7jre58L7AhhfURERCQIwS5mUux+bjrHuYiIiIRBq+dCFxERkfA7ZYAbY/qfoXqIiIhI\nK7TUA58FYIwZ2fiEQl1ERCT8WjoHfsgY8yQw1hhThKZSFRERiQgtTaX6KDjTpzbOzKapVEVERMIv\n2KvQ17jD6FnWWs3CJiIiEmZBXYVujLkVuBaYbIy5N7RVEhERkZYE1QMHdlhrF4J3XnQREREJo2AD\nPM8YsxrIAkYBK0NXJREREWlJsAH+CjAPZynR2aGrjoiIiAQj2IvYKoDbQlwXERERCZKmUhUREYlC\nQfXAjTFTcIbPXwHyrLVrQ1orEREROaVge+DlQKG1thLnQjYREREJo2ADPA/IcidzmRTC+oiIiEgQ\ngr0KfQXwCHAQmBO66oiIiEgwgg3wDGvt9MYvjDETODGkLiIiImdYsEPo44wxtwC4n88Fpp/6JSIi\nIhIqrbmNrNCdRnWMO61qcYjqJCIiIi0INsAzca4+zwO6G2PSAU/IaiUiIiKnFGyAL8C5D3wFcCsw\nK2Q1EhERkRa1ZirVV92e91hr7aOhrZaIiIicSrAzsU0EZgJxOEPnq0JZKRERETm11pwDf8q9leyV\nENZHREREgtCamdgyjTHXALkhrI+IiIgEIdgAL7DWLsG5/1u3j4mIiIRZsBexNYb2AveCtpMyxmTg\nnC8vAoqttWt8nh8LjALWWGtXtrnWIiIiHVxQPXB36lSAbu4w+qnMxDlfvgSY4fP8dKDIWjsfmN3q\nmoqIiIjXKXvgxphcnHu+RxtjZuFchV4ELDnFy8b53GaW1/ikO3sbxphR7j5ERESkjU4Z4NbaYmPM\nXJx7v4Md8vYYY9LdhU4ym9k+HfXARURETkuL58Ddc94r3bXAs4DR7jD4yax2y1UCZb4bjDFTgIeB\n7u72APHxcWRmpgRX+wgWH99J7YggakdkUTsiSyy0Ixba0FrBTuTyMCeGvQe0UHwhMNMYUwbMdYfh\npwI7cNYULwI+Bx5o7sUNDR7Ky2uCqVZEy8xMUTsiiNoRWdSOyBIL7YiFNgDk5KQFXTbY9cDfsdau\nAjDGvHuqgm6PvelUq41fvxp0zUREROSkgg3wOcaY2UAFzkQu40JXJREREWlJsAH+SONFbO5V5CIi\nIhJGwQZ4pjHmFpx50LUOuIiISJgFO5VqOVDo3hqWFcL6iIiISBBas5hJlnsr2eQQ1kdERESCEOwQ\n+gqcW8AOoklYREREwi7YHvgUYLa19nacBUlEREQkjIIN8M99ViRrbnpUEREROYOCHUKfbIzZ4T4+\nn1MvZiIiIiIhFmyAz8U5B+4B5oSuOiIiIhKMYAM811p7W0hrIiIiIkEL9hz4xY0PjDH9Q1MVERER\nCVawPfDzjTF/AYqBMWgudBERkbAKNsCf8pkLfWII6yMiIiJBaMtc6AdDWB8REREJguZCFxERiUJt\nmQt9UgjrIyIiIkFoy1zoug9cREQkzE4Z4MaYXOApoMhaO/3MVElERERa0tIQ+kyc1ccKjDHXnIH6\niIiISBBaGkIvtNauAd0+JiIiEklaCnCPMSa9yePp1tqnQ1wvEREROYWWAnweUATE+TyXCyjARURE\nwqilAJ/WOITeyL2wTURERMLolBexNQ1v97ni0FVHREREghHsRC4iIiISQRTgIiIiUUgBLiIiEoUU\n4CIiIlFIAS4iIhKFFOAiIiJRSAEuIiIShRTgIiIiUUgBLiIiEoUU4CIiIlFIAS4iIhKFFOAiIiJR\nSAEuIiIShVpaTrTVjDEZwEycdcSLG1c0c58fC4y21j7a3u8rIiLSkYSiBz4TeMpauwSY0fiktbYC\n2AFkheA9RUREOpRQBPg4a22l+zgvBPsXERHp8EIR4B5jTLr7ODME+xcREenw2v0cOLAaZ5i8Eihr\nZnvcqV4cHx9HZmZKCKp1ZsXHd1I7IojaEVnUjsgSC+2IhTa0VpzH42nXHfpcxFYGFAIVwBRr7Xxj\nzK3AVGCWtXZnc6+vq2vwlJfXtGudwiEzMwW1I3KoHZFF7YgssdCOWGgDQE5O2ik7ub7avQfuXqzW\n9Crz+e62hcDC9n5PERGRjkb3gYuIiEQhBbiIiEgUUoCLiIhEIQW4iIhIFFKAi4iIRCEFuIiISBRS\ngIuIiEQhBbiIiEgUUoCLiIhEIQW4iIhIFFKAi4iIRCEFuIiISBRSgIuIiEQhBbiIiEgUUoCLiIhE\nIQW4iIhpqwGeAAAOQElEQVRIFFKAi4iIRCEFuIiISBRSgIuIiEQhBbiIiEgUUoCLiIhEIQW4iIhI\nFFKAi4iIRCEFuIiISBRSgIuIiEQhBbiIiEgUUoCLiIhEIQW4iIhIFFKAi4iIRKGEcFfgTGloaKCu\nro76+joSE5NITk722/71119x4MAB6uvr3HL19O+fS8+evfzKff55IVu3Wurr6737++Y3/5khQ/L9\nyr311pt88cVmsrNzyMk5i+zsHPr27UdqamrI2yoi0hGVlR0iISGB+PgEEhKcj06dYrefGnEB/tJL\nL/HOO+96w7Gurp4f/OAGJkyY5Ffuscd+x+uvL/UpV8d99z3AtGnX+pWbM+cennvuaQASExNJSEjk\n179+hO9//wa/ci+88BzLl79GQkIiiYkJJCQkcscdd3HppZf5ldu8eRN/+9uH3n0lJiYwfPiogHYc\nO1bLjh1FfPLJxxw4sJ/9+/dx771zuPrqqU3a+yLWbnGD3vkYPnwUOTk5bf4eSvRZv34tZWVl1NTU\ncORIDTU1NVxxxVWkp2f4lfvVr/6TsrJK0tPTSU1NIz09nUsuuZS0tHS/cg0NDcTHx5/JJogEaGho\ncH+fj5CTk0NcXJzf9jfeWMbhw4c5cuSI+1HDv/zLfQGhO336VT7lajhy5AiFhRtISPCPsAsuGEVd\nXT0NDfXeTtbevWUBfwvDhp1Hp06d3LCPJyEhgQ8//DSg3JQplxMX14mEhHjvgcGzz74YUG727LuJ\nj4/3O3B44IGfB7TjmWcWeN+v8b2nTJne5oOMOI/H06YXhsp7773vWbv2CxISEkhMTCQxMZFhw0aQ\nm5vnV27Xrp3u0VaiWy6B7OycgH949fX1xMXFnfF/ZpmZKZSX17RY7sMPP2DdurXs37/PG/Q//vFP\nueii8X7l5s9/mC1bNpOdne3t0U+cOIm+ffuFqglA8O2IdK1pR21tLTU1zj+LmprD9O17dsCIzWuv\nLeGrr/a6geuU+8lP7qZHjx5+5W688Xqs3exX7r33/s555xm/crNm3cSBAwdISUmhS5cupKR05YEH\nfk6PHj39yr3xxqvs2LGTyspKqqoqqays5KGH5nLWWWf5lTv//BF8/fVXpKamkZbmBP0LLywKGFF6\n8cX/xuPxkJ6eTlpaGmlpGYwYMTKgve0tVn6vOnfuRHl5Db7/Rzt37hwQVIcPH6bp/9quXbsGlKuq\nqsTj8fiVTU/PCChXVnbILXfiuW7dugUEwYEDBwL2l52dHVCurOxr9u494A3HI0dqmDBhUsD/zblz\nH6KystIvSBcufD7g92Xo0IGUl5dRX19Ply7O7/Tnn2+kc+fOfuVmzbqJhIREunRJISUlhZSULtxz\nzxwSExP9yn3wwXskJ3ema9cU7/569+7j93052e+Ux+MJ+P59/fXX3pCvr6+noaGBAQMGBpT76KO/\nutvrqa93RnG/973LA8o988wCb5nG8j/72b0B5ebMuYf6+ga/A4wnnnjar1xOTpr/i04h4gK8rq7B\nEwt/2O39D2rDhnUUFW33Cfr9/OhHNzN8+Ei/cnff/RM2b95IdnaOd/j+uut+EHAA1Nwv9ZloR7A8\nHg91dXXU1h7j2LFajh07SnZ2DklJSX7lPv30Ew4dOsixY0c5duwYtbW1fPe7l9G9e3e/cgsWPM7m\nzdYbzIcP1zB//u8Dvi8TJvwftmzZREpKVzdIU/jznxczYMBAv3KPPjqX8vIyv3LTpl0X8L7btm0l\nLi7OL5iTkpKC+t43J9ifh8fj4ciRI1RVVVFV5YT9kCFDA/7Rzpv3G776aq/3gKCqqooXXlhEdna2\nX7lJky7i6NEj3l5/Wlo68+f/nszMbn7lVq58h4SERG+ZtLR0cnJyAgIj2HZUVVVy7FgtdXW1HDt2\njLq6OvLyzg0IlhUr/kJNTQ21tbXu700t1133g4Dfl1/96pdUV1dRV1fn7q+W3//+j3Tp0sWv3OWX\nf4eKinK//f3jH5+RmprmV27w4Fyqq6sBvD/TjRu3B4yI5OcP4PDhw37PffHF1oD9DR9uvOUa97d2\n7aaAcqNH53P4sP/7FhZuCCg3duwwamoa39cp9+mnawPKjR9/IQ0NDXTp0sUbpk8//QIpKSl+5Z54\n4v+RkBDvDdGUlK5MmvSdgJ5wWdkhunRJITk5uc2/660VKweFCvAIEK5fptLSEkpK9nDgwAFv2F99\n9dSAoJoy5Qqs3ez25p1e/b33ziYvb4BfucrKA5SU7KO29hhHjx6jtvYYI0eOCvgHtXRpAaWlpRw7\ndtQburfeehu9e/fxK/fAA/eydavl6NGj1NbWUlt7jKeeeo5Bgwb7lZs06SI2btxAUlIynTsnk5SU\nzKJFSwKuNZg9+25KSvaQnNyZpCTn2oZ77plNv35n+5V7++3X2b//kPefTkpKCmPHjgv4R1ZfXx/w\nzyiShPP3qqKiwj0gqKCyspJLL7084IDgjjtu5euvv/IbIfjb31bTrVuWX7mrr/4u+/cfcH8Har0B\nmZGR6Vdu5MjBHD16hKSkZJKSkkhKSuIvf3kv4Pdv1qybqKur95ZJSkrmoYd+ExBAzzzzFB6Px29/\nl112ZUDQb9iwnvj4eJ/9JXHWWT3afCAS6WKhHbHQBlCAR4RI/2Wqra3l4MED3mH7/fv3M378xQFD\nsTNn3sjmzZtJSkomOdn5mDfvdwwceJ5fuT/84TH27fua5ORkN0g7M336dQFDyp988jFHjx4hObkz\nycnOP9q8vHMDekDHjx9v14tPIv3nEaxYaceXX26npqbOL3CbG9qNdLHy84iFdsRCG0ABHhFi5ZdJ\n7YgsakdkUTsiRyy0AVoX4NF1uCsiIiKAAlxERCQqKcBFRESikAJcREQkCrX7/TLGmAxgJlAEFFtr\n15zqeREREWm9UPTAZwJPWWuXADOCeF5ERERaKRQBPs5aW+k+zgvieREREWmlUEw55THGpLthnRnE\n834SE+PjcnLSTrY5qqgdkUXtiCxqR2SJhXbEQhtaIxQ98NVA47yJZUE8LyIiIq3U7jOx+VysVgYU\nAhXAFGABMKvxeWvt2nZ9YxERkQ4k4qZSFRERkZbpPnAREZEoFDHrJrpD72OB0dbaR8NdHxERkVBr\nmn2tmTMlYgLcWlthjNkBXBzuupwOnx/GKGCNtXZlmKvUJj7tyAN2RGs7Ghlj7sOZh6CyxcIRyBiT\nCyzGuRj0EWvtzvDWqO2MMbfi/HPKs9Y+He76tIUxZgrwAHAQwFr7nfDWqG2MMaOAbkBctP6Nu38b\nF+P8LKJukrBmsq9xzpRKY8zDwEnboyH09jcdKLLWzgdmh7syp2Es4MG5EHFUmOtyWnwORrJaKhvh\nJlhrb4/y8J6C8/exKlrD21VkrR0LTCNK/87dnwXW2lVAbpirczpmA++6k4Q9EO7KtIOg50xRgLcz\na+1Ca+1O98i2KNz1aSv3aLwYmOkejESzsTg912g3wxhzi/u7Fa0mAXnGmCnGmInhrkxb+dxFMymK\n76hZASw0xjwBvBLuypyG7ZyYWySaD0S8jDHp7sOTzpkCkRngQS9mHuGmE6VH5o2stcXAPGNM1P5x\nu2FXSJT/Xllri92Dw6dxbseMZoXW2leJ8r8Pd2SnW7jrcRrygFtwOhr/Gua6tJnbwchz/9YPhbs+\np6Hxf9SnBDlnSqQF+MXAKGNM/3BX5HS4Q1MPA93DXZe2MsY8bIzp74Z4NB/V5uL0wMcRxddXGGNu\n9Tkqj+bQ2O7zONrvYb0Y2BHuSpyGGdbatW4ARu3Pwj0HvgLnZ/F5mKvTVr7ZtxCYZoy5BZh7qhdF\nzEVs4Aw/41Q+avmEd+MvU7Sek1kEnGuMidpzfADW2iVuT+n+cNflNL0LjHP/WUXtzwPn73umMSYP\neCTclTlN3Yji02TAImPMNTinyt4Nd2VOQyYwGufnccrAi1TNZF9Qd2JpIhcREZEoFGlD6CIiIhIE\nBbiIiEgUUoCLiIhEIQW4iIhIFFKAi4iIRCEFuEgMMcaMao+Z2tprPyISOgpwkTAyxuQaY95x78f1\nff4dY8y9bdjlDtphpjZ3QQi/OQzcurbpPlv3/nURaUcKcJEwcme6ewqY0ficzzz6K9qwv4r2q13A\nvoutta2emMidSCfap38ViTgRNRObSAdVDuxwp67d6fMc4Ldc4g6cWafKcWZjexiYjDN3cgXuesLA\nWGPMBOBcnHnH15xkH7Pc167gxLS/o4AF7mpIee5+Jltr57gHFrOstbe5C5H41uHlxmUcfRYpGQUs\nwF3r2BgzwVq7yq3LVLcu5dbalT5rIDe2e7XbJm+d3fnTRcSlHrhI+HlwpoC8zZ3vvBz/xVcewemR\nHwS6uSvFedxlIIvAu3rcWLd843KdCzkxXWlz+8iw1s53V9MajROWn/ssZXiw8T2MMSPdgO7m835l\n7va5+E+L6revJmUbRx2KcBZqmOm+5mLgM5zg9rh18qtz67+tIrFNAS4SfnGNPV5grBtwvg4Ch9xQ\na1wZzneovLHXGtfkM5xYpKK5ffi+z2Kc3vR0Y8zIZt6jcXUk3337vp/vnMzN7SvOGNPfGJNhjLkP\nvOtQx7kHLZ/jjBh091knvLk6i4hLAS4SRu6w9P3uKkRPApnucPIoTqyeNgdnLfAJnFg2Mdd9zRic\n4elcTqxm5DHGTHAvgpt1kn1MBMb4rPw3zd1XIc5wfnPv0fhc46pojUPss/E/x+23L/e5Ipwh/gr3\nuTx34R8PzsjBIZy1wqe6qzAF1Lm131uRWKfFTESkTYwxr1hrp7fTvu4DnrLWVhpjbsU9DdAe+xaJ\nVeqBi0iruT1439746foM5+K7iTi98sJ22q9IzFIPXEREJAqpBy4iIhKFFOAiIiJRSAEuIiIShRTg\nIiIiUUgBLiIiEoX+P7cG7CsXw76bAAAAAElFTkSuQmCC\n",
      "text/plain": [
       "<matplotlib.figure.Figure at 0x11738a9d0>"
      ]
     },
     "metadata": {},
     "output_type": "display_data"
    }
   ],
   "source": [
    "# clauses = load_result('clause_count')\n",
    "relthn = editor(thn.results, '%', clauses)\n",
    "plotter(r'Tense of \\emph{things}', relthn.results, \n",
    "         y_label = 'Percentage of all clauses', x_label = 'Membership stage', black_and_white = True,\n",
    "         style = 'seaborn-paper', figsize = (7, 4), rot = False, legend_pos = 'upper left', save = 'things_clauses_bw')"
   ]
  },
  {
   "cell_type": "markdown",
   "metadata": {},
   "source": [
    "## Being and having bipolar\n",
    "\n",
    "Previous literature has focussed on the way people attribute/ascribe illnesses to self and other. We can detect this by querying dependencies:"
   ]
  },
  {
   "cell_type": "code",
   "execution_count": 4,
   "metadata": {
    "collapsed": false
   },
   "outputs": [
    {
     "name": "stdout",
     "output_type": "stream",
     "text": [
      " 22:26:50: Interrogation finished! 7801 unique results, 37518 total.\n",
      "\n",
      "\n",
      "22:26:50: Data saved: saved_interrogations/rolegovp.p\n",
      "\n",
      "\n",
      "***Processing results***\n",
      "========================\n",
      "\n",
      "Replacing \"root/root\" with \"dobj/be\" ...\n",
      "\n",
      "Merging duplicate entries ... \n",
      "\n",
      "Keeping 301 entries:\n",
      "    dobj/have\n",
      "    dobj/diagnose\n",
      "    dobj/treat\n",
      "    dobj/manage\n",
      "    dobj/understand\n",
      "    dobj/get\n",
      "    dobj/use\n",
      "    dobj/call\n",
      "    dobj/think\n",
      "    dobj/help\n",
      "... and 291 more ... \n",
      "\n",
      "***Done!***\n",
      "========================\n",
      "\n",
      "\n",
      "***Processing results***\n",
      "========================\n",
      "\n",
      "Replacing \"dobj/be.*\" with \"be bipolar\" ...\n",
      "\n",
      "Replacing \"dobj/have.*\" with \"have bipolar\" ...\n",
      "\n",
      "Merging duplicate entries ... \n",
      "\n",
      "***Done!***\n",
      "========================\n",
      "\n",
      "\n",
      "***Processing results***\n",
      "========================\n",
      "\n",
      "Merging 295 entries as \"other processes\":\n",
      "    dobj/diagnose\n",
      "    dobj/treat\n",
      "    dobj/manage\n",
      "    dobj/understand\n",
      "    dobj/get\n",
      "    dobj/use\n",
      "    dobj/call\n",
      "    dobj/think\n",
      "    dobj/help\n",
      "    dobj/control\n",
      "... and 285 more ... \n",
      "\n",
      "***Done!***\n",
      "========================\n",
      "\n"
     ]
    }
   ],
   "source": [
    "# print function and governor of bipolar words\n",
    "rolegov = interrogator(corpus, {'w': r'(?i)(bi-?polar|bp)'}, show = ['f', 'g'], lemmatise = True, quicksave = 'rolegov')\n",
    "# corenlp marks dobj as head in copula constructions ... fix that here, then keep just dobj\n",
    "just_proc = editor(rolegov.results, replace_names = {'dobj/be': 'root/root'}, just_entries = r'dobj/')\n",
    "# edit names for be and have\n",
    "rs = {'be bipolar': 'dobj/be.*', 'have bipolar': 'dobj/have.*'}\n",
    "behave = editor(just_proc.results, replace_names = rs)\n",
    "# collapse other processes\n",
    "behave = editor(behave.results, '%', just_proc.totals, merge_entries = {'other processes': 'dobj/'})"
   ]
  },
  {
   "cell_type": "code",
   "execution_count": 29,
   "metadata": {
    "collapsed": false
   },
   "outputs": [
    {
     "name": "stdout",
     "output_type": "stream",
     "text": [
      "\n",
      "22:50:30: images/be_have_sb.png created.\n"
     ]
    },
    {
     "data": {
      "image/png": "iVBORw0KGgoAAAANSUhEUgAAAjgAAAEYCAYAAABRMYxdAAAABHNCSVQICAgIfAhkiAAAAAlwSFlz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\nf6wgzW6YUyGlAAAAAElFTkSuQmCC\n",
      "text/plain": [
       "<matplotlib.figure.Figure at 0x116149a50>"
      ]
     },
     "metadata": {},
     "output_type": "display_data"
    }
   ],
   "source": [
    "plotter('Being and having bipolar', behave.results, style = 'seaborn-paper',\n",
    "        x_label = 'Membership stage', y_label = 'Percentage of all processes', save = 'be_have_sb')"
   ]
  },
  {
   "cell_type": "code",
   "execution_count": 28,
   "metadata": {
    "collapsed": false
   },
   "outputs": [
    {
     "name": "stdout",
     "output_type": "stream",
     "text": [
      "\n",
      "22:50:17: images/be_have_sb_bw.png created.\n"
     ]
    },
    {
     "data": {
      "image/png": "iVBORw0KGgoAAAANSUhEUgAAAjgAAAEYCAYAAABRMYxdAAAABHNCSVQICAgIfAhkiAAAAAlwSFlz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\njoiIiHiOEhwRERHxnP8PCWMzAKF/TU8AAAAASUVORK5CYII=\n",
      "text/plain": [
       "<matplotlib.figure.Figure at 0x1214af050>"
      ]
     },
     "metadata": {},
     "output_type": "display_data"
    }
   ],
   "source": [
    "plotter('Being and having bipolar', behave.results, style = 'seaborn-paper', black_and_white = True,\n",
    "        x_label = 'Membership stage', y_label = 'Percentage of all processes', save = 'be_have_sb_bw')"
   ]
  },
  {
   "cell_type": "markdown",
   "metadata": {},
   "source": [
    "We can see that veteran members prefer *having* constructions, while *being* constructions fall out of use.\n",
    "\n",
    "**That's all for now! Thanks for reading.**"
   ]
  },
  {
   "cell_type": "code",
   "execution_count": null,
   "metadata": {
    "collapsed": true
   },
   "outputs": [],
   "source": []
  }
 ],
 "metadata": {
  "kernelspec": {
   "display_name": "Python 2",
   "language": "python",
   "name": "python2"
  },
  "language_info": {
   "codemirror_mode": {
    "name": "ipython",
    "version": 2
   },
   "file_extension": ".py",
   "mimetype": "text/x-python",
   "name": "python",
   "nbconvert_exporter": "python",
   "pygments_lexer": "ipython2",
   "version": "2.7.10"
  }
 },
 "nbformat": 4,
 "nbformat_minor": 0
}
